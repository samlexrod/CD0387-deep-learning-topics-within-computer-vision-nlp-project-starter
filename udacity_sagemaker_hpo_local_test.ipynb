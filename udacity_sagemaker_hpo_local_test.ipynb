{
 "cells": [
  {
   "cell_type": "markdown",
   "id": "740fe431-f01d-44ae-9ea6-add181724216",
   "metadata": {},
   "source": [
    "# Save sample data for testing"
   ]
  },
  {
   "cell_type": "code",
   "execution_count": 3,
   "id": "2eea1e1d-c037-42d3-b6f3-0805f259f67f",
   "metadata": {
    "tags": []
   },
   "outputs": [
    {
     "name": "stderr",
     "output_type": "stream",
     "text": [
      "100%|██████████| 80/80 [00:12<00:00,  6.39it/s]\n"
     ]
    }
   ],
   "source": [
    "import boto3\n",
    "import os\n",
    "from tqdm import tqdm\n",
    "\n",
    "s3 = boto3.client(\"s3\")\n",
    "\n",
    "# List all objects helper internal function\n",
    "def list_all_objects(bucket, prefix):\n",
    "    # Create a paginator for list_objects_v2\n",
    "    paginator = s3.get_paginator('list_objects_v2')\n",
    "\n",
    "    # Use the paginator to iterate through all pages\n",
    "    all_objects = []\n",
    "    for page in paginator.paginate(Bucket=bucket, Prefix=prefix):\n",
    "        if 'Contents' in page:\n",
    "            all_objects.extend(page['Contents'])\n",
    "\n",
    "    return all_objects\n",
    "\n",
    "bucket = 'udacity-deeplearning-resubmit'\n",
    "prefix = 'data'\n",
    "sample_prefix = 'sample'\n",
    "\n",
    "all_files = list_all_objects(bucket, prefix)\n",
    "\n",
    "sample_files = [file_meta for file_meta in all_files if '001.Affenpinscher' in file_meta.get(\"Key\")]\n",
    "\n",
    "for file_meta in tqdm(sample_files):\n",
    "    key = file_meta.get(\"Key\")\n",
    "    \n",
    "    # Move the data from s3 to a different prefix\n",
    "    dirname = os.path.dirname(key)\n",
    "    if dirname:\n",
    "        os.makedirs(dirname, exist_ok=True)\n",
    "\n",
    "    s3.download_file(bucket, key, key)\n",
    "    s3.copy_object(\n",
    "        Bucket=bucket,\n",
    "        CopySource=f\"{bucket}/{key}\",\n",
    "        Key=f\"{sample_prefix}/{key.replace('data/', '')}\"\n",
    "    )"
   ]
  },
  {
   "cell_type": "markdown",
   "id": "0201b549-bd17-499a-8a6f-05752ef5cb08",
   "metadata": {
    "tags": []
   },
   "source": [
    "## Testing Estimator Locally Prior to Deployment to ECR"
   ]
  },
  {
   "cell_type": "code",
   "execution_count": 7,
   "id": "87553aa0-2f98-4f0a-b3fb-e2dd11ec3053",
   "metadata": {
    "tags": []
   },
   "outputs": [
    {
     "name": "stderr",
     "output_type": "stream",
     "text": [
      "WARNING! Your password will be stored unencrypted in /home/ec2-user/.docker/config.json.\n",
      "Configure a credential helper to remove this warning. See\n",
      "https://docs.docker.com/engine/reference/commandline/login/#credentials-store\n",
      "\n"
     ]
    },
    {
     "name": "stdout",
     "output_type": "stream",
     "text": [
      "Login Succeeded\n",
      "sha256:12dde6a28f4ba6861288e019e218c3cf2caffcfb66fb6603c127be8e22dacb76\n",
      "REPOSITORY                                                           TAG       IMAGE ID       CREATED                  SIZE\n",
      "udacity-sagemaker-hpo                                                latest    12dde6a28f4b   Less than a second ago   3.92GB\n",
      "477684614357.dkr.ecr.us-east-1.amazonaws.com/udacity-sagemaker-hpo   latest    a3b2c3e643cf   16 minutes ago           3.92GB\n"
     ]
    },
    {
     "data": {
      "text/html": [
       "<pre style=\"white-space:pre;overflow-x:auto;line-height:normal;font-family:Menlo,'DejaVu Sans Mono',consolas,'Courier New',monospace\"><span style=\"color: #7fbfbf; text-decoration-color: #7fbfbf\">[12/18/24 20:12:51] </span><span style=\"color: #0069ff; text-decoration-color: #0069ff; font-weight: bold\">INFO    </span> Found credentials from IAM Role:                                   <a href=\"file:///home/ec2-user/anaconda3/envs/tensorflow2_p310/lib/python3.10/site-packages/botocore/credentials.py\" target=\"_blank\"><span style=\"color: #7f7f7f; text-decoration-color: #7f7f7f\">credentials.py</span></a><span style=\"color: #7f7f7f; text-decoration-color: #7f7f7f\">:</span><a href=\"file:///home/ec2-user/anaconda3/envs/tensorflow2_p310/lib/python3.10/site-packages/botocore/credentials.py#1075\" target=\"_blank\"><span style=\"color: #7f7f7f; text-decoration-color: #7f7f7f\">1075</span></a>\n",
       "<span style=\"color: #7fbfbf; text-decoration-color: #7fbfbf\">                    </span>         BaseNotebookInstanceEc2InstanceRole                                <span style=\"color: #7f7f7f; text-decoration-color: #7f7f7f\">                   </span>\n",
       "</pre>\n"
      ],
      "text/plain": [
       "\u001b[2;36m[12/18/24 20:12:51]\u001b[0m\u001b[2;36m \u001b[0m\u001b[1;38;2;0;105;255mINFO    \u001b[0m Found credentials from IAM Role:                                   \u001b]8;id=116088;file:///home/ec2-user/anaconda3/envs/tensorflow2_p310/lib/python3.10/site-packages/botocore/credentials.py\u001b\\\u001b[2mcredentials.py\u001b[0m\u001b]8;;\u001b\\\u001b[2m:\u001b[0m\u001b]8;id=394371;file:///home/ec2-user/anaconda3/envs/tensorflow2_p310/lib/python3.10/site-packages/botocore/credentials.py#1075\u001b\\\u001b[2m1075\u001b[0m\u001b]8;;\u001b\\\n",
       "\u001b[2;36m                    \u001b[0m         BaseNotebookInstanceEc2InstanceRole                                \u001b[2m                   \u001b[0m\n"
      ]
     },
     "metadata": {},
     "output_type": "display_data"
    },
    {
     "data": {
      "text/html": [
       "<pre style=\"white-space:pre;overflow-x:auto;line-height:normal;font-family:Menlo,'DejaVu Sans Mono',consolas,'Courier New',monospace\"><span style=\"color: #7fbfbf; text-decoration-color: #7fbfbf\">                    </span><span style=\"color: #0069ff; text-decoration-color: #0069ff; font-weight: bold\">INFO    </span> SageMaker Python SDK will collect telemetry to help us better  <a href=\"file:///home/ec2-user/anaconda3/envs/tensorflow2_p310/lib/python3.10/site-packages/sagemaker/telemetry/telemetry_logging.py\" target=\"_blank\"><span style=\"color: #7f7f7f; text-decoration-color: #7f7f7f\">telemetry_logging.py</span></a><span style=\"color: #7f7f7f; text-decoration-color: #7f7f7f\">:</span><a href=\"file:///home/ec2-user/anaconda3/envs/tensorflow2_p310/lib/python3.10/site-packages/sagemaker/telemetry/telemetry_logging.py#90\" target=\"_blank\"><span style=\"color: #7f7f7f; text-decoration-color: #7f7f7f\">90</span></a>\n",
       "<span style=\"color: #7fbfbf; text-decoration-color: #7fbfbf\">                    </span>         understand our user's needs, diagnose issues, and deliver      <span style=\"color: #7f7f7f; text-decoration-color: #7f7f7f\">                       </span>\n",
       "<span style=\"color: #7fbfbf; text-decoration-color: #7fbfbf\">                    </span>         additional features.                                           <span style=\"color: #7f7f7f; text-decoration-color: #7f7f7f\">                       </span>\n",
       "<span style=\"color: #7fbfbf; text-decoration-color: #7fbfbf\">                    </span>         To opt out of telemetry, please disable via TelemetryOptOut    <span style=\"color: #7f7f7f; text-decoration-color: #7f7f7f\">                       </span>\n",
       "<span style=\"color: #7fbfbf; text-decoration-color: #7fbfbf\">                    </span>         parameter in SDK defaults config. For more information, refer  <span style=\"color: #7f7f7f; text-decoration-color: #7f7f7f\">                       </span>\n",
       "<span style=\"color: #7fbfbf; text-decoration-color: #7fbfbf\">                    </span>         to                                                             <span style=\"color: #7f7f7f; text-decoration-color: #7f7f7f\">                       </span>\n",
       "<span style=\"color: #7fbfbf; text-decoration-color: #7fbfbf\">                    </span>         <span style=\"color: #0069ff; text-decoration-color: #0069ff; text-decoration: underline\">https://sagemaker.readthedocs.io/en/stable/overview.html#confi</span> <span style=\"color: #7f7f7f; text-decoration-color: #7f7f7f\">                       </span>\n",
       "<span style=\"color: #7fbfbf; text-decoration-color: #7fbfbf\">                    </span>         <span style=\"color: #0069ff; text-decoration-color: #0069ff; text-decoration: underline\">guring-and-using-defaults-with-the-sagemaker-python-sdk.</span>       <span style=\"color: #7f7f7f; text-decoration-color: #7f7f7f\">                       </span>\n",
       "</pre>\n"
      ],
      "text/plain": [
       "\u001b[2;36m                   \u001b[0m\u001b[2;36m \u001b[0m\u001b[1;38;2;0;105;255mINFO    \u001b[0m SageMaker Python SDK will collect telemetry to help us better  \u001b]8;id=928235;file:///home/ec2-user/anaconda3/envs/tensorflow2_p310/lib/python3.10/site-packages/sagemaker/telemetry/telemetry_logging.py\u001b\\\u001b[2mtelemetry_logging.py\u001b[0m\u001b]8;;\u001b\\\u001b[2m:\u001b[0m\u001b]8;id=366479;file:///home/ec2-user/anaconda3/envs/tensorflow2_p310/lib/python3.10/site-packages/sagemaker/telemetry/telemetry_logging.py#90\u001b\\\u001b[2m90\u001b[0m\u001b]8;;\u001b\\\n",
       "\u001b[2;36m                    \u001b[0m         understand our user's needs, diagnose issues, and deliver      \u001b[2m                       \u001b[0m\n",
       "\u001b[2;36m                    \u001b[0m         additional features.                                           \u001b[2m                       \u001b[0m\n",
       "\u001b[2;36m                    \u001b[0m         To opt out of telemetry, please disable via TelemetryOptOut    \u001b[2m                       \u001b[0m\n",
       "\u001b[2;36m                    \u001b[0m         parameter in SDK defaults config. For more information, refer  \u001b[2m                       \u001b[0m\n",
       "\u001b[2;36m                    \u001b[0m         to                                                             \u001b[2m                       \u001b[0m\n",
       "\u001b[2;36m                    \u001b[0m         \u001b[4;38;2;0;105;255mhttps://sagemaker.readthedocs.io/en/stable/overview.html#confi\u001b[0m \u001b[2m                       \u001b[0m\n",
       "\u001b[2;36m                    \u001b[0m         \u001b[4;38;2;0;105;255mguring-and-using-defaults-with-the-sagemaker-python-sdk.\u001b[0m       \u001b[2m                       \u001b[0m\n"
      ]
     },
     "metadata": {},
     "output_type": "display_data"
    },
    {
     "data": {
      "text/html": [
       "<pre style=\"white-space:pre;overflow-x:auto;line-height:normal;font-family:Menlo,'DejaVu Sans Mono',consolas,'Courier New',monospace\"><span style=\"color: #7fbfbf; text-decoration-color: #7fbfbf\">                    </span><span style=\"color: #0069ff; text-decoration-color: #0069ff; font-weight: bold\">INFO    </span> Creating training-job with name:                                       <a href=\"file:///home/ec2-user/anaconda3/envs/tensorflow2_p310/lib/python3.10/site-packages/sagemaker/session.py\" target=\"_blank\"><span style=\"color: #7f7f7f; text-decoration-color: #7f7f7f\">session.py</span></a><span style=\"color: #7f7f7f; text-decoration-color: #7f7f7f\">:</span><a href=\"file:///home/ec2-user/anaconda3/envs/tensorflow2_p310/lib/python3.10/site-packages/sagemaker/session.py#1042\" target=\"_blank\"><span style=\"color: #7f7f7f; text-decoration-color: #7f7f7f\">1042</span></a>\n",
       "<span style=\"color: #7fbfbf; text-decoration-color: #7fbfbf\">                    </span>         udacity-sagemaker-hpo-<span style=\"color: #008080; text-decoration-color: #008080; font-weight: bold\">2024</span>-12-18-20-12-51-779                          <span style=\"color: #7f7f7f; text-decoration-color: #7f7f7f\">               </span>\n",
       "</pre>\n"
      ],
      "text/plain": [
       "\u001b[2;36m                   \u001b[0m\u001b[2;36m \u001b[0m\u001b[1;38;2;0;105;255mINFO    \u001b[0m Creating training-job with name:                                       \u001b]8;id=415084;file:///home/ec2-user/anaconda3/envs/tensorflow2_p310/lib/python3.10/site-packages/sagemaker/session.py\u001b\\\u001b[2msession.py\u001b[0m\u001b]8;;\u001b\\\u001b[2m:\u001b[0m\u001b]8;id=171083;file:///home/ec2-user/anaconda3/envs/tensorflow2_p310/lib/python3.10/site-packages/sagemaker/session.py#1042\u001b\\\u001b[2m1042\u001b[0m\u001b]8;;\u001b\\\n",
       "\u001b[2;36m                    \u001b[0m         udacity-sagemaker-hpo-\u001b[1;36m2024\u001b[0m-12-18-20-12-51-779                          \u001b[2m               \u001b[0m\n"
      ]
     },
     "metadata": {},
     "output_type": "display_data"
    },
    {
     "data": {
      "text/html": [
       "<pre style=\"white-space:pre;overflow-x:auto;line-height:normal;font-family:Menlo,'DejaVu Sans Mono',consolas,'Courier New',monospace\"><span style=\"color: #7fbfbf; text-decoration-color: #7fbfbf\">                    </span><span style=\"color: #0069ff; text-decoration-color: #0069ff; font-weight: bold\">INFO    </span> SageMaker Python SDK will collect telemetry to help us better  <a href=\"file:///home/ec2-user/anaconda3/envs/tensorflow2_p310/lib/python3.10/site-packages/sagemaker/telemetry/telemetry_logging.py\" target=\"_blank\"><span style=\"color: #7f7f7f; text-decoration-color: #7f7f7f\">telemetry_logging.py</span></a><span style=\"color: #7f7f7f; text-decoration-color: #7f7f7f\">:</span><a href=\"file:///home/ec2-user/anaconda3/envs/tensorflow2_p310/lib/python3.10/site-packages/sagemaker/telemetry/telemetry_logging.py#90\" target=\"_blank\"><span style=\"color: #7f7f7f; text-decoration-color: #7f7f7f\">90</span></a>\n",
       "<span style=\"color: #7fbfbf; text-decoration-color: #7fbfbf\">                    </span>         understand our user's needs, diagnose issues, and deliver      <span style=\"color: #7f7f7f; text-decoration-color: #7f7f7f\">                       </span>\n",
       "<span style=\"color: #7fbfbf; text-decoration-color: #7fbfbf\">                    </span>         additional features.                                           <span style=\"color: #7f7f7f; text-decoration-color: #7f7f7f\">                       </span>\n",
       "<span style=\"color: #7fbfbf; text-decoration-color: #7fbfbf\">                    </span>         To opt out of telemetry, please disable via TelemetryOptOut    <span style=\"color: #7f7f7f; text-decoration-color: #7f7f7f\">                       </span>\n",
       "<span style=\"color: #7fbfbf; text-decoration-color: #7fbfbf\">                    </span>         parameter in SDK defaults config. For more information, refer  <span style=\"color: #7f7f7f; text-decoration-color: #7f7f7f\">                       </span>\n",
       "<span style=\"color: #7fbfbf; text-decoration-color: #7fbfbf\">                    </span>         to                                                             <span style=\"color: #7f7f7f; text-decoration-color: #7f7f7f\">                       </span>\n",
       "<span style=\"color: #7fbfbf; text-decoration-color: #7fbfbf\">                    </span>         <span style=\"color: #0069ff; text-decoration-color: #0069ff; text-decoration: underline\">https://sagemaker.readthedocs.io/en/stable/overview.html#confi</span> <span style=\"color: #7f7f7f; text-decoration-color: #7f7f7f\">                       </span>\n",
       "<span style=\"color: #7fbfbf; text-decoration-color: #7fbfbf\">                    </span>         <span style=\"color: #0069ff; text-decoration-color: #0069ff; text-decoration: underline\">guring-and-using-defaults-with-the-sagemaker-python-sdk.</span>       <span style=\"color: #7f7f7f; text-decoration-color: #7f7f7f\">                       </span>\n",
       "</pre>\n"
      ],
      "text/plain": [
       "\u001b[2;36m                   \u001b[0m\u001b[2;36m \u001b[0m\u001b[1;38;2;0;105;255mINFO    \u001b[0m SageMaker Python SDK will collect telemetry to help us better  \u001b]8;id=341149;file:///home/ec2-user/anaconda3/envs/tensorflow2_p310/lib/python3.10/site-packages/sagemaker/telemetry/telemetry_logging.py\u001b\\\u001b[2mtelemetry_logging.py\u001b[0m\u001b]8;;\u001b\\\u001b[2m:\u001b[0m\u001b]8;id=340707;file:///home/ec2-user/anaconda3/envs/tensorflow2_p310/lib/python3.10/site-packages/sagemaker/telemetry/telemetry_logging.py#90\u001b\\\u001b[2m90\u001b[0m\u001b]8;;\u001b\\\n",
       "\u001b[2;36m                    \u001b[0m         understand our user's needs, diagnose issues, and deliver      \u001b[2m                       \u001b[0m\n",
       "\u001b[2;36m                    \u001b[0m         additional features.                                           \u001b[2m                       \u001b[0m\n",
       "\u001b[2;36m                    \u001b[0m         To opt out of telemetry, please disable via TelemetryOptOut    \u001b[2m                       \u001b[0m\n",
       "\u001b[2;36m                    \u001b[0m         parameter in SDK defaults config. For more information, refer  \u001b[2m                       \u001b[0m\n",
       "\u001b[2;36m                    \u001b[0m         to                                                             \u001b[2m                       \u001b[0m\n",
       "\u001b[2;36m                    \u001b[0m         \u001b[4;38;2;0;105;255mhttps://sagemaker.readthedocs.io/en/stable/overview.html#confi\u001b[0m \u001b[2m                       \u001b[0m\n",
       "\u001b[2;36m                    \u001b[0m         \u001b[4;38;2;0;105;255mguring-and-using-defaults-with-the-sagemaker-python-sdk.\u001b[0m       \u001b[2m                       \u001b[0m\n"
      ]
     },
     "metadata": {},
     "output_type": "display_data"
    },
    {
     "data": {
      "text/html": [
       "<pre style=\"white-space:pre;overflow-x:auto;line-height:normal;font-family:Menlo,'DejaVu Sans Mono',consolas,'Courier New',monospace\"><span style=\"color: #7fbfbf; text-decoration-color: #7fbfbf\">                    </span><span style=\"color: #0069ff; text-decoration-color: #0069ff; font-weight: bold\">INFO    </span> <span style=\"color: #008700; text-decoration-color: #008700\">'Docker Compose'</span> is not installed. Proceeding to check for                <a href=\"file:///home/ec2-user/anaconda3/envs/tensorflow2_p310/lib/python3.10/site-packages/sagemaker/local/image.py\" target=\"_blank\"><span style=\"color: #7f7f7f; text-decoration-color: #7f7f7f\">image.py</span></a><span style=\"color: #7f7f7f; text-decoration-color: #7f7f7f\">:</span><a href=\"file:///home/ec2-user/anaconda3/envs/tensorflow2_p310/lib/python3.10/site-packages/sagemaker/local/image.py#162\" target=\"_blank\"><span style=\"color: #7f7f7f; text-decoration-color: #7f7f7f\">162</span></a>\n",
       "<span style=\"color: #7fbfbf; text-decoration-color: #7fbfbf\">                    </span>         <span style=\"color: #008700; text-decoration-color: #008700\">'docker-compose'</span> CLI.                                                     <span style=\"color: #7f7f7f; text-decoration-color: #7f7f7f\">            </span>\n",
       "</pre>\n"
      ],
      "text/plain": [
       "\u001b[2;36m                   \u001b[0m\u001b[2;36m \u001b[0m\u001b[1;38;2;0;105;255mINFO    \u001b[0m \u001b[38;2;0;135;0m'Docker Compose'\u001b[0m is not installed. Proceeding to check for                \u001b]8;id=350330;file:///home/ec2-user/anaconda3/envs/tensorflow2_p310/lib/python3.10/site-packages/sagemaker/local/image.py\u001b\\\u001b[2mimage.py\u001b[0m\u001b]8;;\u001b\\\u001b[2m:\u001b[0m\u001b]8;id=424095;file:///home/ec2-user/anaconda3/envs/tensorflow2_p310/lib/python3.10/site-packages/sagemaker/local/image.py#162\u001b\\\u001b[2m162\u001b[0m\u001b]8;;\u001b\\\n",
       "\u001b[2;36m                    \u001b[0m         \u001b[38;2;0;135;0m'docker-compose'\u001b[0m CLI.                                                     \u001b[2m            \u001b[0m\n"
      ]
     },
     "metadata": {},
     "output_type": "display_data"
    },
    {
     "data": {
      "text/html": [
       "<pre style=\"white-space:pre;overflow-x:auto;line-height:normal;font-family:Menlo,'DejaVu Sans Mono',consolas,'Courier New',monospace\"><span style=\"color: #7fbfbf; text-decoration-color: #7fbfbf\">                    </span><span style=\"color: #0069ff; text-decoration-color: #0069ff; font-weight: bold\">INFO    </span> <span style=\"color: #008700; text-decoration-color: #008700\">'Docker Compose'</span> found using Docker Compose CLI.                          <a href=\"file:///home/ec2-user/anaconda3/envs/tensorflow2_p310/lib/python3.10/site-packages/sagemaker/local/image.py\" target=\"_blank\"><span style=\"color: #7f7f7f; text-decoration-color: #7f7f7f\">image.py</span></a><span style=\"color: #7f7f7f; text-decoration-color: #7f7f7f\">:</span><a href=\"file:///home/ec2-user/anaconda3/envs/tensorflow2_p310/lib/python3.10/site-packages/sagemaker/local/image.py#173\" target=\"_blank\"><span style=\"color: #7f7f7f; text-decoration-color: #7f7f7f\">173</span></a>\n",
       "</pre>\n"
      ],
      "text/plain": [
       "\u001b[2;36m                   \u001b[0m\u001b[2;36m \u001b[0m\u001b[1;38;2;0;105;255mINFO    \u001b[0m \u001b[38;2;0;135;0m'Docker Compose'\u001b[0m found using Docker Compose CLI.                          \u001b]8;id=68446;file:///home/ec2-user/anaconda3/envs/tensorflow2_p310/lib/python3.10/site-packages/sagemaker/local/image.py\u001b\\\u001b[2mimage.py\u001b[0m\u001b]8;;\u001b\\\u001b[2m:\u001b[0m\u001b]8;id=736674;file:///home/ec2-user/anaconda3/envs/tensorflow2_p310/lib/python3.10/site-packages/sagemaker/local/image.py#173\u001b\\\u001b[2m173\u001b[0m\u001b]8;;\u001b\\\n"
      ]
     },
     "metadata": {},
     "output_type": "display_data"
    },
    {
     "data": {
      "text/html": [
       "<pre style=\"white-space:pre;overflow-x:auto;line-height:normal;font-family:Menlo,'DejaVu Sans Mono',consolas,'Courier New',monospace\"><span style=\"color: #7fbfbf; text-decoration-color: #7fbfbf\">                    </span><span style=\"color: #0069ff; text-decoration-color: #0069ff; font-weight: bold\">INFO    </span> Starting training job                                             <a href=\"file:///home/ec2-user/anaconda3/envs/tensorflow2_p310/lib/python3.10/site-packages/sagemaker/local/local_session.py\" target=\"_blank\"><span style=\"color: #7f7f7f; text-decoration-color: #7f7f7f\">local_session.py</span></a><span style=\"color: #7f7f7f; text-decoration-color: #7f7f7f\">:</span><a href=\"file:///home/ec2-user/anaconda3/envs/tensorflow2_p310/lib/python3.10/site-packages/sagemaker/local/local_session.py#215\" target=\"_blank\"><span style=\"color: #7f7f7f; text-decoration-color: #7f7f7f\">215</span></a>\n",
       "</pre>\n"
      ],
      "text/plain": [
       "\u001b[2;36m                   \u001b[0m\u001b[2;36m \u001b[0m\u001b[1;38;2;0;105;255mINFO    \u001b[0m Starting training job                                             \u001b]8;id=114699;file:///home/ec2-user/anaconda3/envs/tensorflow2_p310/lib/python3.10/site-packages/sagemaker/local/local_session.py\u001b\\\u001b[2mlocal_session.py\u001b[0m\u001b]8;;\u001b\\\u001b[2m:\u001b[0m\u001b]8;id=94142;file:///home/ec2-user/anaconda3/envs/tensorflow2_p310/lib/python3.10/site-packages/sagemaker/local/local_session.py#215\u001b\\\u001b[2m215\u001b[0m\u001b]8;;\u001b\\\n"
      ]
     },
     "metadata": {},
     "output_type": "display_data"
    },
    {
     "data": {
      "text/html": [
       "<pre style=\"white-space:pre;overflow-x:auto;line-height:normal;font-family:Menlo,'DejaVu Sans Mono',consolas,'Courier New',monospace\"><span style=\"color: #7fbfbf; text-decoration-color: #7fbfbf\">                    </span><span style=\"color: #0069ff; text-decoration-color: #0069ff; font-weight: bold\">INFO    </span> Found credentials from IAM Role:                                   <a href=\"file:///home/ec2-user/anaconda3/envs/tensorflow2_p310/lib/python3.10/site-packages/botocore/credentials.py\" target=\"_blank\"><span style=\"color: #7f7f7f; text-decoration-color: #7f7f7f\">credentials.py</span></a><span style=\"color: #7f7f7f; text-decoration-color: #7f7f7f\">:</span><a href=\"file:///home/ec2-user/anaconda3/envs/tensorflow2_p310/lib/python3.10/site-packages/botocore/credentials.py#1075\" target=\"_blank\"><span style=\"color: #7f7f7f; text-decoration-color: #7f7f7f\">1075</span></a>\n",
       "<span style=\"color: #7fbfbf; text-decoration-color: #7fbfbf\">                    </span>         BaseNotebookInstanceEc2InstanceRole                                <span style=\"color: #7f7f7f; text-decoration-color: #7f7f7f\">                   </span>\n",
       "</pre>\n"
      ],
      "text/plain": [
       "\u001b[2;36m                   \u001b[0m\u001b[2;36m \u001b[0m\u001b[1;38;2;0;105;255mINFO    \u001b[0m Found credentials from IAM Role:                                   \u001b]8;id=287490;file:///home/ec2-user/anaconda3/envs/tensorflow2_p310/lib/python3.10/site-packages/botocore/credentials.py\u001b\\\u001b[2mcredentials.py\u001b[0m\u001b]8;;\u001b\\\u001b[2m:\u001b[0m\u001b]8;id=842440;file:///home/ec2-user/anaconda3/envs/tensorflow2_p310/lib/python3.10/site-packages/botocore/credentials.py#1075\u001b\\\u001b[2m1075\u001b[0m\u001b]8;;\u001b\\\n",
       "\u001b[2;36m                    \u001b[0m         BaseNotebookInstanceEc2InstanceRole                                \u001b[2m                   \u001b[0m\n"
      ]
     },
     "metadata": {},
     "output_type": "display_data"
    },
    {
     "data": {
      "text/html": [
       "<pre style=\"white-space:pre;overflow-x:auto;line-height:normal;font-family:Menlo,'DejaVu Sans Mono',consolas,'Courier New',monospace\"><span style=\"color: #7fbfbf; text-decoration-color: #7fbfbf\">                    </span><span style=\"color: #0069ff; text-decoration-color: #0069ff; font-weight: bold\">INFO    </span> No AWS credentials found in session but credentials from EC2 Metadata    <a href=\"file:///home/ec2-user/anaconda3/envs/tensorflow2_p310/lib/python3.10/site-packages/sagemaker/local/image.py\" target=\"_blank\"><span style=\"color: #7f7f7f; text-decoration-color: #7f7f7f\">image.py</span></a><span style=\"color: #7f7f7f; text-decoration-color: #7f7f7f\">:</span><a href=\"file:///home/ec2-user/anaconda3/envs/tensorflow2_p310/lib/python3.10/site-packages/sagemaker/local/image.py#1131\" target=\"_blank\"><span style=\"color: #7f7f7f; text-decoration-color: #7f7f7f\">1131</span></a>\n",
       "<span style=\"color: #7fbfbf; text-decoration-color: #7fbfbf\">                    </span>         Service are available.                                                   <span style=\"color: #7f7f7f; text-decoration-color: #7f7f7f\">             </span>\n",
       "</pre>\n"
      ],
      "text/plain": [
       "\u001b[2;36m                   \u001b[0m\u001b[2;36m \u001b[0m\u001b[1;38;2;0;105;255mINFO    \u001b[0m No AWS credentials found in session but credentials from EC2 Metadata    \u001b]8;id=519062;file:///home/ec2-user/anaconda3/envs/tensorflow2_p310/lib/python3.10/site-packages/sagemaker/local/image.py\u001b\\\u001b[2mimage.py\u001b[0m\u001b]8;;\u001b\\\u001b[2m:\u001b[0m\u001b]8;id=106423;file:///home/ec2-user/anaconda3/envs/tensorflow2_p310/lib/python3.10/site-packages/sagemaker/local/image.py#1131\u001b\\\u001b[2m1131\u001b[0m\u001b]8;;\u001b\\\n",
       "\u001b[2;36m                    \u001b[0m         Service are available.                                                   \u001b[2m             \u001b[0m\n"
      ]
     },
     "metadata": {},
     "output_type": "display_data"
    },
    {
     "data": {
      "text/html": [
       "<pre style=\"white-space:pre;overflow-x:auto;line-height:normal;font-family:Menlo,'DejaVu Sans Mono',consolas,'Courier New',monospace\"><span style=\"color: #7fbfbf; text-decoration-color: #7fbfbf\">                    </span><span style=\"color: #0069ff; text-decoration-color: #0069ff; font-weight: bold\">INFO    </span> docker compose file:                                                      <a href=\"file:///home/ec2-user/anaconda3/envs/tensorflow2_p310/lib/python3.10/site-packages/sagemaker/local/image.py\" target=\"_blank\"><span style=\"color: #7f7f7f; text-decoration-color: #7f7f7f\">image.py</span></a><span style=\"color: #7f7f7f; text-decoration-color: #7f7f7f\">:</span><a href=\"file:///home/ec2-user/anaconda3/envs/tensorflow2_p310/lib/python3.10/site-packages/sagemaker/local/image.py#771\" target=\"_blank\"><span style=\"color: #7f7f7f; text-decoration-color: #7f7f7f\">771</span></a>\n",
       "<span style=\"color: #7fbfbf; text-decoration-color: #7fbfbf\">                    </span>         networks:                                                                 <span style=\"color: #7f7f7f; text-decoration-color: #7f7f7f\">            </span>\n",
       "<span style=\"color: #7fbfbf; text-decoration-color: #7fbfbf\">                    </span>           sagemaker-local:                                                        <span style=\"color: #7f7f7f; text-decoration-color: #7f7f7f\">            </span>\n",
       "<span style=\"color: #7fbfbf; text-decoration-color: #7fbfbf\">                    </span>             name: sagemaker-local                                                 <span style=\"color: #7f7f7f; text-decoration-color: #7f7f7f\">            </span>\n",
       "<span style=\"color: #7fbfbf; text-decoration-color: #7fbfbf\">                    </span>         services:                                                                 <span style=\"color: #7f7f7f; text-decoration-color: #7f7f7f\">            </span>\n",
       "<span style=\"color: #7fbfbf; text-decoration-color: #7fbfbf\">                    </span>           algo-<span style=\"color: #008080; text-decoration-color: #008080; font-weight: bold\">1</span>-txkro:                                                           <span style=\"color: #7f7f7f; text-decoration-color: #7f7f7f\">            </span>\n",
       "<span style=\"color: #7fbfbf; text-decoration-color: #7fbfbf\">                    </span>             command: train                                                        <span style=\"color: #7f7f7f; text-decoration-color: #7f7f7f\">            </span>\n",
       "<span style=\"color: #7fbfbf; text-decoration-color: #7fbfbf\">                    </span>             container_name: j37ec3zv0h-algo-<span style=\"color: #008080; text-decoration-color: #008080; font-weight: bold\">1</span>-txkro                               <span style=\"color: #7f7f7f; text-decoration-color: #7f7f7f\">            </span>\n",
       "<span style=\"color: #7fbfbf; text-decoration-color: #7fbfbf\">                    </span>             environment:                                                          <span style=\"color: #7f7f7f; text-decoration-color: #7f7f7f\">            </span>\n",
       "<span style=\"color: #7fbfbf; text-decoration-color: #7fbfbf\">                    </span>             - <span style=\"color: #008700; text-decoration-color: #008700\">'</span><span style=\"color: #008700; text-decoration-color: #008700; font-weight: bold\">[</span><span style=\"color: #008700; text-decoration-color: #008700\">Masked</span><span style=\"color: #008700; text-decoration-color: #008700; font-weight: bold\">]</span><span style=\"color: #008700; text-decoration-color: #008700\">'</span>                                                          <span style=\"color: #7f7f7f; text-decoration-color: #7f7f7f\">            </span>\n",
       "<span style=\"color: #7fbfbf; text-decoration-color: #7fbfbf\">                    </span>             - <span style=\"color: #008700; text-decoration-color: #008700\">'</span><span style=\"color: #008700; text-decoration-color: #008700; font-weight: bold\">[</span><span style=\"color: #008700; text-decoration-color: #008700\">Masked</span><span style=\"color: #008700; text-decoration-color: #008700; font-weight: bold\">]</span><span style=\"color: #008700; text-decoration-color: #008700\">'</span>                                                          <span style=\"color: #7f7f7f; text-decoration-color: #7f7f7f\">            </span>\n",
       "<span style=\"color: #7fbfbf; text-decoration-color: #7fbfbf\">                    </span>             - <span style=\"color: #008700; text-decoration-color: #008700\">'</span><span style=\"color: #008700; text-decoration-color: #008700; font-weight: bold\">[</span><span style=\"color: #008700; text-decoration-color: #008700\">Masked</span><span style=\"color: #008700; text-decoration-color: #008700; font-weight: bold\">]</span><span style=\"color: #008700; text-decoration-color: #008700\">'</span>                                                          <span style=\"color: #7f7f7f; text-decoration-color: #7f7f7f\">            </span>\n",
       "<span style=\"color: #7fbfbf; text-decoration-color: #7fbfbf\">                    </span>             image: udacity-sagemaker-hpo                                          <span style=\"color: #7f7f7f; text-decoration-color: #7f7f7f\">            </span>\n",
       "<span style=\"color: #7fbfbf; text-decoration-color: #7fbfbf\">                    </span>             networks:                                                             <span style=\"color: #7f7f7f; text-decoration-color: #7f7f7f\">            </span>\n",
       "<span style=\"color: #7fbfbf; text-decoration-color: #7fbfbf\">                    </span>               sagemaker-local:                                                    <span style=\"color: #7f7f7f; text-decoration-color: #7f7f7f\">            </span>\n",
       "<span style=\"color: #7fbfbf; text-decoration-color: #7fbfbf\">                    </span>                 aliases:                                                          <span style=\"color: #7f7f7f; text-decoration-color: #7f7f7f\">            </span>\n",
       "<span style=\"color: #7fbfbf; text-decoration-color: #7fbfbf\">                    </span>                 - algo-<span style=\"color: #008080; text-decoration-color: #008080; font-weight: bold\">1</span>-txkro                                                    <span style=\"color: #7f7f7f; text-decoration-color: #7f7f7f\">            </span>\n",
       "<span style=\"color: #7fbfbf; text-decoration-color: #7fbfbf\">                    </span>             stdin_open: true                                                      <span style=\"color: #7f7f7f; text-decoration-color: #7f7f7f\">            </span>\n",
       "<span style=\"color: #7fbfbf; text-decoration-color: #7fbfbf\">                    </span>             tty: true                                                             <span style=\"color: #7f7f7f; text-decoration-color: #7f7f7f\">            </span>\n",
       "<span style=\"color: #7fbfbf; text-decoration-color: #7fbfbf\">                    </span>             volumes:                                                              <span style=\"color: #7f7f7f; text-decoration-color: #7f7f7f\">            </span>\n",
       "<span style=\"color: #7fbfbf; text-decoration-color: #7fbfbf\">                    </span>             - <span style=\"color: #e100e1; text-decoration-color: #e100e1\">/tmp/tmpr_j6aaxm/algo-1-txkro/input</span>:<span style=\"color: #e100e1; text-decoration-color: #e100e1\">/opt/ml/input</span>                   <span style=\"color: #7f7f7f; text-decoration-color: #7f7f7f\">            </span>\n",
       "<span style=\"color: #7fbfbf; text-decoration-color: #7fbfbf\">                    </span>             - <span style=\"color: #e100e1; text-decoration-color: #e100e1\">/tmp/tmpr_j6aaxm/algo-1-txkro/output</span>:<span style=\"color: #e100e1; text-decoration-color: #e100e1\">/opt/ml/output</span>                 <span style=\"color: #7f7f7f; text-decoration-color: #7f7f7f\">            </span>\n",
       "<span style=\"color: #7fbfbf; text-decoration-color: #7fbfbf\">                    </span>             - <span style=\"color: #e100e1; text-decoration-color: #e100e1\">/tmp/tmpr_j6aaxm/algo-1-txkro/output/data</span>:<span style=\"color: #e100e1; text-decoration-color: #e100e1\">/opt/ml/output/data</span>       <span style=\"color: #7f7f7f; text-decoration-color: #7f7f7f\">            </span>\n",
       "<span style=\"color: #7fbfbf; text-decoration-color: #7fbfbf\">                    </span>             - <span style=\"color: #e100e1; text-decoration-color: #e100e1\">/tmp/tmpr_j6aaxm/model</span>:<span style=\"color: #e100e1; text-decoration-color: #e100e1\">/opt/ml/model</span>                                <span style=\"color: #7f7f7f; text-decoration-color: #7f7f7f\">            </span>\n",
       "<span style=\"color: #7fbfbf; text-decoration-color: #7fbfbf\">                    </span>             - <span style=\"color: #e100e1; text-decoration-color: #e100e1\">/opt/ml/metadata</span>:<span style=\"color: #e100e1; text-decoration-color: #e100e1\">/opt/ml/metadata</span>                                   <span style=\"color: #7f7f7f; text-decoration-color: #7f7f7f\">            </span>\n",
       "<span style=\"color: #7fbfbf; text-decoration-color: #7fbfbf\">                    </span>             -                                                                     <span style=\"color: #7f7f7f; text-decoration-color: #7f7f7f\">            </span>\n",
       "<span style=\"color: #7fbfbf; text-decoration-color: #7fbfbf\">                    </span>         <span style=\"color: #e100e1; text-decoration-color: #e100e1\">/home/ec2-user/SageMaker/CD0387-deep-learning-topics-within-computer-visi</span> <span style=\"color: #7f7f7f; text-decoration-color: #7f7f7f\">            </span>\n",
       "<span style=\"color: #7fbfbf; text-decoration-color: #7fbfbf\">                    </span>         <span style=\"color: #e100e1; text-decoration-color: #e100e1\">on-nlp-project-starter/data/test</span>:<span style=\"color: #e100e1; text-decoration-color: #e100e1\">/opt/ml/input/data/train</span>                 <span style=\"color: #7f7f7f; text-decoration-color: #7f7f7f\">            </span>\n",
       "<span style=\"color: #7fbfbf; text-decoration-color: #7fbfbf\">                    </span>             -                                                                     <span style=\"color: #7f7f7f; text-decoration-color: #7f7f7f\">            </span>\n",
       "<span style=\"color: #7fbfbf; text-decoration-color: #7fbfbf\">                    </span>         <span style=\"color: #e100e1; text-decoration-color: #e100e1\">/home/ec2-user/SageMaker/CD0387-deep-learning-topics-within-computer-visi</span> <span style=\"color: #7f7f7f; text-decoration-color: #7f7f7f\">            </span>\n",
       "<span style=\"color: #7fbfbf; text-decoration-color: #7fbfbf\">                    </span>         <span style=\"color: #e100e1; text-decoration-color: #e100e1\">on-nlp-project-starter/data/valid</span>:<span style=\"color: #e100e1; text-decoration-color: #e100e1\">/opt/ml/input/data/test</span>                 <span style=\"color: #7f7f7f; text-decoration-color: #7f7f7f\">            </span>\n",
       "<span style=\"color: #7fbfbf; text-decoration-color: #7fbfbf\">                    </span>         version: <span style=\"color: #008700; text-decoration-color: #008700\">'2.3'</span>                                                            <span style=\"color: #7f7f7f; text-decoration-color: #7f7f7f\">            </span>\n",
       "<span style=\"color: #7fbfbf; text-decoration-color: #7fbfbf\">                    </span>                                                                                   <span style=\"color: #7f7f7f; text-decoration-color: #7f7f7f\">            </span>\n",
       "</pre>\n"
      ],
      "text/plain": [
       "\u001b[2;36m                   \u001b[0m\u001b[2;36m \u001b[0m\u001b[1;38;2;0;105;255mINFO    \u001b[0m docker compose file:                                                      \u001b]8;id=734320;file:///home/ec2-user/anaconda3/envs/tensorflow2_p310/lib/python3.10/site-packages/sagemaker/local/image.py\u001b\\\u001b[2mimage.py\u001b[0m\u001b]8;;\u001b\\\u001b[2m:\u001b[0m\u001b]8;id=270841;file:///home/ec2-user/anaconda3/envs/tensorflow2_p310/lib/python3.10/site-packages/sagemaker/local/image.py#771\u001b\\\u001b[2m771\u001b[0m\u001b]8;;\u001b\\\n",
       "\u001b[2;36m                    \u001b[0m         networks:                                                                 \u001b[2m            \u001b[0m\n",
       "\u001b[2;36m                    \u001b[0m           sagemaker-local:                                                        \u001b[2m            \u001b[0m\n",
       "\u001b[2;36m                    \u001b[0m             name: sagemaker-local                                                 \u001b[2m            \u001b[0m\n",
       "\u001b[2;36m                    \u001b[0m         services:                                                                 \u001b[2m            \u001b[0m\n",
       "\u001b[2;36m                    \u001b[0m           algo-\u001b[1;36m1\u001b[0m-txkro:                                                           \u001b[2m            \u001b[0m\n",
       "\u001b[2;36m                    \u001b[0m             command: train                                                        \u001b[2m            \u001b[0m\n",
       "\u001b[2;36m                    \u001b[0m             container_name: j37ec3zv0h-algo-\u001b[1;36m1\u001b[0m-txkro                               \u001b[2m            \u001b[0m\n",
       "\u001b[2;36m                    \u001b[0m             environment:                                                          \u001b[2m            \u001b[0m\n",
       "\u001b[2;36m                    \u001b[0m             - \u001b[38;2;0;135;0m'\u001b[0m\u001b[1;38;2;0;135;0m[\u001b[0m\u001b[38;2;0;135;0mMasked\u001b[0m\u001b[1;38;2;0;135;0m]\u001b[0m\u001b[38;2;0;135;0m'\u001b[0m                                                          \u001b[2m            \u001b[0m\n",
       "\u001b[2;36m                    \u001b[0m             - \u001b[38;2;0;135;0m'\u001b[0m\u001b[1;38;2;0;135;0m[\u001b[0m\u001b[38;2;0;135;0mMasked\u001b[0m\u001b[1;38;2;0;135;0m]\u001b[0m\u001b[38;2;0;135;0m'\u001b[0m                                                          \u001b[2m            \u001b[0m\n",
       "\u001b[2;36m                    \u001b[0m             - \u001b[38;2;0;135;0m'\u001b[0m\u001b[1;38;2;0;135;0m[\u001b[0m\u001b[38;2;0;135;0mMasked\u001b[0m\u001b[1;38;2;0;135;0m]\u001b[0m\u001b[38;2;0;135;0m'\u001b[0m                                                          \u001b[2m            \u001b[0m\n",
       "\u001b[2;36m                    \u001b[0m             image: udacity-sagemaker-hpo                                          \u001b[2m            \u001b[0m\n",
       "\u001b[2;36m                    \u001b[0m             networks:                                                             \u001b[2m            \u001b[0m\n",
       "\u001b[2;36m                    \u001b[0m               sagemaker-local:                                                    \u001b[2m            \u001b[0m\n",
       "\u001b[2;36m                    \u001b[0m                 aliases:                                                          \u001b[2m            \u001b[0m\n",
       "\u001b[2;36m                    \u001b[0m                 - algo-\u001b[1;36m1\u001b[0m-txkro                                                    \u001b[2m            \u001b[0m\n",
       "\u001b[2;36m                    \u001b[0m             stdin_open: true                                                      \u001b[2m            \u001b[0m\n",
       "\u001b[2;36m                    \u001b[0m             tty: true                                                             \u001b[2m            \u001b[0m\n",
       "\u001b[2;36m                    \u001b[0m             volumes:                                                              \u001b[2m            \u001b[0m\n",
       "\u001b[2;36m                    \u001b[0m             - \u001b[38;2;225;0;225m/tmp/tmpr_j6aaxm/algo-1-txkro/\u001b[0m\u001b[38;2;225;0;225minput\u001b[0m:\u001b[38;2;225;0;225m/opt/ml/\u001b[0m\u001b[38;2;225;0;225minput\u001b[0m                   \u001b[2m            \u001b[0m\n",
       "\u001b[2;36m                    \u001b[0m             - \u001b[38;2;225;0;225m/tmp/tmpr_j6aaxm/algo-1-txkro/\u001b[0m\u001b[38;2;225;0;225moutput\u001b[0m:\u001b[38;2;225;0;225m/opt/ml/\u001b[0m\u001b[38;2;225;0;225moutput\u001b[0m                 \u001b[2m            \u001b[0m\n",
       "\u001b[2;36m                    \u001b[0m             - \u001b[38;2;225;0;225m/tmp/tmpr_j6aaxm/algo-1-txkro/output/\u001b[0m\u001b[38;2;225;0;225mdata\u001b[0m:\u001b[38;2;225;0;225m/opt/ml/output/\u001b[0m\u001b[38;2;225;0;225mdata\u001b[0m       \u001b[2m            \u001b[0m\n",
       "\u001b[2;36m                    \u001b[0m             - \u001b[38;2;225;0;225m/tmp/tmpr_j6aaxm/\u001b[0m\u001b[38;2;225;0;225mmodel\u001b[0m:\u001b[38;2;225;0;225m/opt/ml/\u001b[0m\u001b[38;2;225;0;225mmodel\u001b[0m                                \u001b[2m            \u001b[0m\n",
       "\u001b[2;36m                    \u001b[0m             - \u001b[38;2;225;0;225m/opt/ml/\u001b[0m\u001b[38;2;225;0;225mmetadata\u001b[0m:\u001b[38;2;225;0;225m/opt/ml/\u001b[0m\u001b[38;2;225;0;225mmetadata\u001b[0m                                   \u001b[2m            \u001b[0m\n",
       "\u001b[2;36m                    \u001b[0m             -                                                                     \u001b[2m            \u001b[0m\n",
       "\u001b[2;36m                    \u001b[0m         \u001b[38;2;225;0;225m/home/ec2-user/SageMaker/CD0387-deep-learning-topics-within-computer-visi\u001b[0m \u001b[2m            \u001b[0m\n",
       "\u001b[2;36m                    \u001b[0m         \u001b[38;2;225;0;225mon-nlp-project-starter/data/\u001b[0m\u001b[38;2;225;0;225mtest\u001b[0m:\u001b[38;2;225;0;225m/opt/ml/input/data/\u001b[0m\u001b[38;2;225;0;225mtrain\u001b[0m                 \u001b[2m            \u001b[0m\n",
       "\u001b[2;36m                    \u001b[0m             -                                                                     \u001b[2m            \u001b[0m\n",
       "\u001b[2;36m                    \u001b[0m         \u001b[38;2;225;0;225m/home/ec2-user/SageMaker/CD0387-deep-learning-topics-within-computer-visi\u001b[0m \u001b[2m            \u001b[0m\n",
       "\u001b[2;36m                    \u001b[0m         \u001b[38;2;225;0;225mon-nlp-project-starter/data/\u001b[0m\u001b[38;2;225;0;225mvalid\u001b[0m:\u001b[38;2;225;0;225m/opt/ml/input/data/\u001b[0m\u001b[38;2;225;0;225mtest\u001b[0m                 \u001b[2m            \u001b[0m\n",
       "\u001b[2;36m                    \u001b[0m         version: \u001b[38;2;0;135;0m'2.3'\u001b[0m                                                            \u001b[2m            \u001b[0m\n",
       "\u001b[2;36m                    \u001b[0m                                                                                   \u001b[2m            \u001b[0m\n"
      ]
     },
     "metadata": {},
     "output_type": "display_data"
    },
    {
     "data": {
      "text/html": [
       "<pre style=\"white-space:pre;overflow-x:auto;line-height:normal;font-family:Menlo,'DejaVu Sans Mono',consolas,'Courier New',monospace\"><span style=\"color: #7fbfbf; text-decoration-color: #7fbfbf\">                    </span><span style=\"color: #0069ff; text-decoration-color: #0069ff; font-weight: bold\">INFO    </span> docker command: docker-compose -f <span style=\"color: #e100e1; text-decoration-color: #e100e1\">/tmp/tmpr_j6aaxm/docker-compose.yaml</span> up <a href=\"file:///home/ec2-user/anaconda3/envs/tensorflow2_p310/lib/python3.10/site-packages/sagemaker/local/image.py\" target=\"_blank\"><span style=\"color: #7f7f7f; text-decoration-color: #7f7f7f\">image.py</span></a><span style=\"color: #7f7f7f; text-decoration-color: #7f7f7f\">:</span><a href=\"file:///home/ec2-user/anaconda3/envs/tensorflow2_p310/lib/python3.10/site-packages/sagemaker/local/image.py#795\" target=\"_blank\"><span style=\"color: #7f7f7f; text-decoration-color: #7f7f7f\">795</span></a>\n",
       "<span style=\"color: #7fbfbf; text-decoration-color: #7fbfbf\">                    </span>         --build --abort-on-container-exit                                         <span style=\"color: #7f7f7f; text-decoration-color: #7f7f7f\">            </span>\n",
       "</pre>\n"
      ],
      "text/plain": [
       "\u001b[2;36m                   \u001b[0m\u001b[2;36m \u001b[0m\u001b[1;38;2;0;105;255mINFO    \u001b[0m docker command: docker-compose -f \u001b[38;2;225;0;225m/tmp/tmpr_j6aaxm/\u001b[0m\u001b[38;2;225;0;225mdocker-compose.yaml\u001b[0m up \u001b]8;id=473576;file:///home/ec2-user/anaconda3/envs/tensorflow2_p310/lib/python3.10/site-packages/sagemaker/local/image.py\u001b\\\u001b[2mimage.py\u001b[0m\u001b]8;;\u001b\\\u001b[2m:\u001b[0m\u001b]8;id=57073;file:///home/ec2-user/anaconda3/envs/tensorflow2_p310/lib/python3.10/site-packages/sagemaker/local/image.py#795\u001b\\\u001b[2m795\u001b[0m\u001b]8;;\u001b\\\n",
       "\u001b[2;36m                    \u001b[0m         --build --abort-on-container-exit                                         \u001b[2m            \u001b[0m\n"
      ]
     },
     "metadata": {},
     "output_type": "display_data"
    },
    {
     "name": "stdout",
     "output_type": "stream",
     "text": [
      " Container j37ec3zv0h-algo-1-txkro  Creating\n",
      " Container j37ec3zv0h-algo-1-txkro  Created\n",
      "Attaching to j37ec3zv0h-algo-1-txkro\n",
      "j37ec3zv0h-algo-1-txkro  | sed: can't read changehostname.c: No such file or directory\n",
      "j37ec3zv0h-algo-1-txkro  | \u001b[01m\u001b[Kgcc:\u001b[m\u001b[K \u001b[01;31m\u001b[Kerror: \u001b[m\u001b[Kchangehostname.c: No such file or directory\n",
      "j37ec3zv0h-algo-1-txkro  | \u001b[01m\u001b[Kgcc:\u001b[m\u001b[K \u001b[01;31m\u001b[Kfatal error: \u001b[m\u001b[Kno input files\n",
      "j37ec3zv0h-algo-1-txkro  | compilation terminated.\n",
      "j37ec3zv0h-algo-1-txkro  | \u001b[01m\u001b[Kgcc:\u001b[m\u001b[K \u001b[01;31m\u001b[Kerror: \u001b[m\u001b[Kchangehostname.o: No such file or directory\n",
      "j37ec3zv0h-algo-1-txkro  | ERROR: ld.so: object '/libchangehostname.so' from LD_PRELOAD cannot be preloaded (cannot open shared object file): ignored.\n",
      "j37ec3zv0h-algo-1-txkro  | 2024-12-18 20:12:55,374 sagemaker-training-toolkit INFO     Imported framework sagemaker_pytorch_container.training\n",
      "j37ec3zv0h-algo-1-txkro  | 2024-12-18 20:12:55,377 sagemaker-training-toolkit INFO     No GPUs detected (normal if no gpus installed)\n",
      "j37ec3zv0h-algo-1-txkro  | 2024-12-18 20:12:55,378 sagemaker-training-toolkit INFO     Failed to parse hyperparameter model-type value mobilenetv2 to Json.\n",
      "j37ec3zv0h-algo-1-txkro  | Returning the value itself\n",
      "j37ec3zv0h-algo-1-txkro  | 2024-12-18 20:12:55,390 sagemaker_pytorch_container.training INFO     Block until all host DNS lookups succeed.\n",
      "j37ec3zv0h-algo-1-txkro  | 2024-12-18 20:12:55,421 sagemaker_pytorch_container.training INFO     Invoking user training script.\n",
      "j37ec3zv0h-algo-1-txkro  | 2024-12-18 20:12:55,425 sagemaker-training-toolkit INFO     No GPUs detected (normal if no gpus installed)\n",
      "j37ec3zv0h-algo-1-txkro  | 2024-12-18 20:12:55,425 sagemaker-training-toolkit INFO     Failed to parse hyperparameter model-type value mobilenetv2 to Json.\n",
      "j37ec3zv0h-algo-1-txkro  | Returning the value itself\n",
      "j37ec3zv0h-algo-1-txkro  | 2024-12-18 20:12:55,441 sagemaker-training-toolkit INFO     No GPUs detected (normal if no gpus installed)\n",
      "j37ec3zv0h-algo-1-txkro  | 2024-12-18 20:12:55,442 sagemaker-training-toolkit INFO     Failed to parse hyperparameter model-type value mobilenetv2 to Json.\n",
      "j37ec3zv0h-algo-1-txkro  | Returning the value itself\n",
      "j37ec3zv0h-algo-1-txkro  | 2024-12-18 20:12:55,457 sagemaker-training-toolkit INFO     No GPUs detected (normal if no gpus installed)\n",
      "j37ec3zv0h-algo-1-txkro  | 2024-12-18 20:12:55,457 sagemaker-training-toolkit INFO     Failed to parse hyperparameter model-type value mobilenetv2 to Json.\n",
      "j37ec3zv0h-algo-1-txkro  | Returning the value itself\n",
      "j37ec3zv0h-algo-1-txkro  | 2024-12-18 20:12:55,470 sagemaker-training-toolkit INFO     Invoking user script\n",
      "j37ec3zv0h-algo-1-txkro  | \n",
      "j37ec3zv0h-algo-1-txkro  | Training Env:\n",
      "j37ec3zv0h-algo-1-txkro  | \n",
      "j37ec3zv0h-algo-1-txkro  | {\n",
      "j37ec3zv0h-algo-1-txkro  |     \"additional_framework_parameters\": {},\n",
      "j37ec3zv0h-algo-1-txkro  |     \"channel_input_dirs\": {\n",
      "j37ec3zv0h-algo-1-txkro  |         \"train\": \"/opt/ml/input/data/train\",\n",
      "j37ec3zv0h-algo-1-txkro  |         \"test\": \"/opt/ml/input/data/test\"\n",
      "j37ec3zv0h-algo-1-txkro  |     },\n",
      "j37ec3zv0h-algo-1-txkro  |     \"current_host\": \"algo-1-txkro\",\n",
      "j37ec3zv0h-algo-1-txkro  |     \"framework_module\": \"sagemaker_pytorch_container.training:main\",\n",
      "j37ec3zv0h-algo-1-txkro  |     \"hosts\": [\n",
      "j37ec3zv0h-algo-1-txkro  |         \"algo-1-txkro\"\n",
      "j37ec3zv0h-algo-1-txkro  |     ],\n",
      "j37ec3zv0h-algo-1-txkro  |     \"hyperparameters\": {\n",
      "j37ec3zv0h-algo-1-txkro  |         \"model-type\": \"mobilenetv2\",\n",
      "j37ec3zv0h-algo-1-txkro  |         \"num-classes\": 133,\n",
      "j37ec3zv0h-algo-1-txkro  |         \"batch-size\": 32,\n",
      "j37ec3zv0h-algo-1-txkro  |         \"lr\": 0.005070970373087015\n",
      "j37ec3zv0h-algo-1-txkro  |     },\n",
      "j37ec3zv0h-algo-1-txkro  |     \"input_config_dir\": \"/opt/ml/input/config\",\n",
      "j37ec3zv0h-algo-1-txkro  |     \"input_data_config\": {\n",
      "j37ec3zv0h-algo-1-txkro  |         \"train\": {\n",
      "j37ec3zv0h-algo-1-txkro  |             \"TrainingInputMode\": \"File\"\n",
      "j37ec3zv0h-algo-1-txkro  |         },\n",
      "j37ec3zv0h-algo-1-txkro  |         \"test\": {\n",
      "j37ec3zv0h-algo-1-txkro  |             \"TrainingInputMode\": \"File\"\n",
      "j37ec3zv0h-algo-1-txkro  |         }\n",
      "j37ec3zv0h-algo-1-txkro  |     },\n",
      "j37ec3zv0h-algo-1-txkro  |     \"input_dir\": \"/opt/ml/input\",\n",
      "j37ec3zv0h-algo-1-txkro  |     \"is_master\": true,\n",
      "j37ec3zv0h-algo-1-txkro  |     \"job_name\": \"udacity-sagemaker-hpo-2024-12-18-20-12-51-779\",\n",
      "j37ec3zv0h-algo-1-txkro  |     \"log_level\": 20,\n",
      "j37ec3zv0h-algo-1-txkro  |     \"master_hostname\": \"algo-1-txkro\",\n",
      "j37ec3zv0h-algo-1-txkro  |     \"model_dir\": \"/opt/ml/model\",\n",
      "j37ec3zv0h-algo-1-txkro  |     \"module_dir\": \"/opt/ml/code\",\n",
      "j37ec3zv0h-algo-1-txkro  |     \"module_name\": \"hpo-container\",\n",
      "j37ec3zv0h-algo-1-txkro  |     \"network_interface_name\": \"eth0\",\n",
      "j37ec3zv0h-algo-1-txkro  |     \"num_cpus\": 2,\n",
      "j37ec3zv0h-algo-1-txkro  |     \"num_gpus\": 0,\n",
      "j37ec3zv0h-algo-1-txkro  |     \"output_data_dir\": \"/opt/ml/output/data\",\n",
      "j37ec3zv0h-algo-1-txkro  |     \"output_dir\": \"/opt/ml/output\",\n",
      "j37ec3zv0h-algo-1-txkro  |     \"output_intermediate_dir\": \"/opt/ml/output/intermediate\",\n",
      "j37ec3zv0h-algo-1-txkro  |     \"resource_config\": {\n",
      "j37ec3zv0h-algo-1-txkro  |         \"current_host\": \"algo-1-txkro\",\n",
      "j37ec3zv0h-algo-1-txkro  |         \"hosts\": [\n",
      "j37ec3zv0h-algo-1-txkro  |             \"algo-1-txkro\"\n",
      "j37ec3zv0h-algo-1-txkro  |         ]\n",
      "j37ec3zv0h-algo-1-txkro  |     },\n",
      "j37ec3zv0h-algo-1-txkro  |     \"user_entry_point\": \"hpo-container.py\"\n",
      "j37ec3zv0h-algo-1-txkro  | }\n",
      "j37ec3zv0h-algo-1-txkro  | \n",
      "j37ec3zv0h-algo-1-txkro  | Environment variables:\n",
      "j37ec3zv0h-algo-1-txkro  | \n",
      "j37ec3zv0h-algo-1-txkro  | SM_HOSTS=[\"algo-1-txkro\"]\n",
      "j37ec3zv0h-algo-1-txkro  | SM_NETWORK_INTERFACE_NAME=eth0\n",
      "j37ec3zv0h-algo-1-txkro  | SM_HPS={\"batch-size\":32,\"lr\":0.005070970373087015,\"model-type\":\"mobilenetv2\",\"num-classes\":133}\n",
      "j37ec3zv0h-algo-1-txkro  | SM_USER_ENTRY_POINT=hpo-container.py\n",
      "j37ec3zv0h-algo-1-txkro  | SM_FRAMEWORK_PARAMS={}\n",
      "j37ec3zv0h-algo-1-txkro  | SM_RESOURCE_CONFIG={\"current_host\":\"algo-1-txkro\",\"hosts\":[\"algo-1-txkro\"]}\n",
      "j37ec3zv0h-algo-1-txkro  | SM_INPUT_DATA_CONFIG={\"test\":{\"TrainingInputMode\":\"File\"},\"train\":{\"TrainingInputMode\":\"File\"}}\n",
      "j37ec3zv0h-algo-1-txkro  | SM_OUTPUT_DATA_DIR=/opt/ml/output/data\n",
      "j37ec3zv0h-algo-1-txkro  | SM_CHANNELS=[\"test\",\"train\"]\n",
      "j37ec3zv0h-algo-1-txkro  | SM_CURRENT_HOST=algo-1-txkro\n",
      "j37ec3zv0h-algo-1-txkro  | SM_MODULE_NAME=hpo-container\n",
      "j37ec3zv0h-algo-1-txkro  | SM_LOG_LEVEL=20\n",
      "j37ec3zv0h-algo-1-txkro  | SM_FRAMEWORK_MODULE=sagemaker_pytorch_container.training:main\n",
      "j37ec3zv0h-algo-1-txkro  | SM_INPUT_DIR=/opt/ml/input\n",
      "j37ec3zv0h-algo-1-txkro  | SM_INPUT_CONFIG_DIR=/opt/ml/input/config\n",
      "j37ec3zv0h-algo-1-txkro  | SM_OUTPUT_DIR=/opt/ml/output\n",
      "j37ec3zv0h-algo-1-txkro  | SM_NUM_CPUS=2\n",
      "j37ec3zv0h-algo-1-txkro  | SM_NUM_GPUS=0\n",
      "j37ec3zv0h-algo-1-txkro  | SM_MODEL_DIR=/opt/ml/model\n",
      "j37ec3zv0h-algo-1-txkro  | SM_MODULE_DIR=/opt/ml/code\n",
      "j37ec3zv0h-algo-1-txkro  | SM_TRAINING_ENV={\"additional_framework_parameters\":{},\"channel_input_dirs\":{\"test\":\"/opt/ml/input/data/test\",\"train\":\"/opt/ml/input/data/train\"},\"current_host\":\"algo-1-txkro\",\"framework_module\":\"sagemaker_pytorch_container.training:main\",\"hosts\":[\"algo-1-txkro\"],\"hyperparameters\":{\"batch-size\":32,\"lr\":0.005070970373087015,\"model-type\":\"mobilenetv2\",\"num-classes\":133},\"input_config_dir\":\"/opt/ml/input/config\",\"input_data_config\":{\"test\":{\"TrainingInputMode\":\"File\"},\"train\":{\"TrainingInputMode\":\"File\"}},\"input_dir\":\"/opt/ml/input\",\"is_master\":true,\"job_name\":\"udacity-sagemaker-hpo-2024-12-18-20-12-51-779\",\"log_level\":20,\"master_hostname\":\"algo-1-txkro\",\"model_dir\":\"/opt/ml/model\",\"module_dir\":\"/opt/ml/code\",\"module_name\":\"hpo-container\",\"network_interface_name\":\"eth0\",\"num_cpus\":2,\"num_gpus\":0,\"output_data_dir\":\"/opt/ml/output/data\",\"output_dir\":\"/opt/ml/output\",\"output_intermediate_dir\":\"/opt/ml/output/intermediate\",\"resource_config\":{\"current_host\":\"algo-1-txkro\",\"hosts\":[\"algo-1-txkro\"]},\"user_entry_point\":\"hpo-container.py\"}\n",
      "j37ec3zv0h-algo-1-txkro  | SM_USER_ARGS=[\"--batch-size\",\"32\",\"--lr\",\"0.005070970373087015\",\"--model-type\",\"mobilenetv2\",\"--num-classes\",\"133\"]\n",
      "j37ec3zv0h-algo-1-txkro  | SM_OUTPUT_INTERMEDIATE_DIR=/opt/ml/output/intermediate\n",
      "j37ec3zv0h-algo-1-txkro  | SM_CHANNEL_TRAIN=/opt/ml/input/data/train\n",
      "j37ec3zv0h-algo-1-txkro  | SM_CHANNEL_TEST=/opt/ml/input/data/test\n",
      "j37ec3zv0h-algo-1-txkro  | SM_HP_MODEL-TYPE=mobilenetv2\n",
      "j37ec3zv0h-algo-1-txkro  | SM_HP_NUM-CLASSES=133\n",
      "j37ec3zv0h-algo-1-txkro  | SM_HP_BATCH-SIZE=32\n",
      "j37ec3zv0h-algo-1-txkro  | SM_HP_LR=0.005070970373087015\n",
      "j37ec3zv0h-algo-1-txkro  | PYTHONPATH=/opt/ml/code:/opt/conda/bin:/opt/conda/lib/python36.zip:/opt/conda/lib/python3.6:/opt/conda/lib/python3.6/lib-dynload:/opt/conda/lib/python3.6/site-packages\n",
      "j37ec3zv0h-algo-1-txkro  | \n",
      "j37ec3zv0h-algo-1-txkro  | Invoking script with the following command:\n",
      "j37ec3zv0h-algo-1-txkro  | \n",
      "j37ec3zv0h-algo-1-txkro  | /opt/conda/bin/python3.6 hpo-container.py --batch-size 32 --lr 0.005070970373087015 --model-type mobilenetv2 --num-classes 133\n",
      "j37ec3zv0h-algo-1-txkro  | \n",
      "j37ec3zv0h-algo-1-txkro  | \n",
      "j37ec3zv0h-algo-1-txkro  | -> Selected model type: mobilenetv2\n",
      "j37ec3zv0h-algo-1-txkro  | ************************************************************\n",
      "j37ec3zv0h-algo-1-txkro  | -> USING LOCAL RUN...\n",
      "j37ec3zv0h-algo-1-txkro  | -> Using cross_entropy loss criterion...\n",
      "j37ec3zv0h-algo-1-txkro  | -> Using Adadelta optimizer...\n",
      "j37ec3zv0h-algo-1-txkro  | -> Creating custom data loaders...\n",
      "j37ec3zv0h-algo-1-txkro  | ************************************************************\n",
      "j37ec3zv0h-algo-1-txkro  | -> Starting model training...\n",
      "j37ec3zv0h-algo-1-txkro  | Train Epoch: 1 [0/8 (0%)]\tLoss: 5.324386\n",
      "j37ec3zv0h-algo-1-txkro  | \n",
      "j37ec3zv0h-algo-1-txkro  | Test set: Average loss: 0.6718, Accuracy: 0/8 (0%)\n",
      "j37ec3zv0h-algo-1-txkro  | \n",
      "j37ec3zv0h-algo-1-txkro  | Train Epoch: 2 [0/8 (0%)]\tLoss: 5.459730\n",
      "j37ec3zv0h-algo-1-txkro  | \n",
      "j37ec3zv0h-algo-1-txkro  | Test set: Average loss: 0.6656, Accuracy: 0/8 (0%)\n",
      "j37ec3zv0h-algo-1-txkro  | \n",
      "j37ec3zv0h-algo-1-txkro  | Train Epoch: 3 [0/8 (0%)]\tLoss: 5.412945\n",
      "j37ec3zv0h-algo-1-txkro  | \n",
      "j37ec3zv0h-algo-1-txkro  | Test set: Average loss: 0.6602, Accuracy: 0/8 (0%)\n",
      "j37ec3zv0h-algo-1-txkro  | \n",
      "j37ec3zv0h-algo-1-txkro  | Train Epoch: 4 [0/8 (0%)]\tLoss: 5.256950\n",
      "j37ec3zv0h-algo-1-txkro  | \n",
      "j37ec3zv0h-algo-1-txkro  | Test set: Average loss: 0.6555, Accuracy: 0/8 (0%)\n",
      "j37ec3zv0h-algo-1-txkro  | \n",
      "j37ec3zv0h-algo-1-txkro  | Train Epoch: 5 [0/8 (0%)]\tLoss: 5.313400\n",
      "j37ec3zv0h-algo-1-txkro  | \n",
      "j37ec3zv0h-algo-1-txkro  | Test set: Average loss: 0.6518, Accuracy: 0/8 (0%)\n",
      "j37ec3zv0h-algo-1-txkro  | \n",
      "j37ec3zv0h-algo-1-txkro  | Train Epoch: 6 [0/8 (0%)]\tLoss: 5.344625\n",
      "j37ec3zv0h-algo-1-txkro  | \n",
      "j37ec3zv0h-algo-1-txkro  | Test set: Average loss: 0.6480, Accuracy: 0/8 (0%)\n",
      "j37ec3zv0h-algo-1-txkro  | \n",
      "j37ec3zv0h-algo-1-txkro  | Train Epoch: 7 [0/8 (0%)]\tLoss: 5.332408\n",
      "j37ec3zv0h-algo-1-txkro  | \n",
      "j37ec3zv0h-algo-1-txkro  | Test set: Average loss: 0.6443, Accuracy: 0/8 (0%)\n",
      "j37ec3zv0h-algo-1-txkro  | \n",
      "j37ec3zv0h-algo-1-txkro  | Train Epoch: 8 [0/8 (0%)]\tLoss: 5.233729\n",
      "j37ec3zv0h-algo-1-txkro  | \n",
      "j37ec3zv0h-algo-1-txkro  | Test set: Average loss: 0.6410, Accuracy: 0/8 (0%)\n",
      "j37ec3zv0h-algo-1-txkro  | \n",
      "j37ec3zv0h-algo-1-txkro  | Train Epoch: 9 [0/8 (0%)]\tLoss: 5.195475\n",
      "j37ec3zv0h-algo-1-txkro  | \n",
      "j37ec3zv0h-algo-1-txkro  | Test set: Average loss: 0.6381, Accuracy: 0/8 (0%)\n",
      "j37ec3zv0h-algo-1-txkro  | \n",
      "j37ec3zv0h-algo-1-txkro  | Train Epoch: 10 [0/8 (0%)]\tLoss: 5.108109\n",
      "j37ec3zv0h-algo-1-txkro  | \n",
      "j37ec3zv0h-algo-1-txkro  | Test set: Average loss: 0.6352, Accuracy: 0/8 (0%)\n",
      "j37ec3zv0h-algo-1-txkro  | \n",
      "j37ec3zv0h-algo-1-txkro  | -> TorchScript model saved to /opt/ml/model/model.pth\n",
      "j37ec3zv0h-algo-1-txkro  | -> TorchScript model loaded successfully for verification.\n",
      "j37ec3zv0h-algo-1-txkro  | -> TorchScript model verification successful: Forward pass completed.\n",
      "j37ec3zv0h-algo-1-txkro  | ERROR: ld.so: object '/libchangehostname.so' from LD_PRELOAD cannot be preloaded (cannot open shared object file): ignored.\n",
      "j37ec3zv0h-algo-1-txkro  | ERROR: ld.so: object '/libchangehostname.so' from LD_PRELOAD cannot be preloaded (cannot open shared object file): ignored.\n",
      "j37ec3zv0h-algo-1-txkro  | ERROR: ld.so: object '/libchangehostname.so' from LD_PRELOAD cannot be preloaded (cannot open shared object file): ignored.\n",
      "j37ec3zv0h-algo-1-txkro  | ERROR: ld.so: object '/libchangehostname.so' from LD_PRELOAD cannot be preloaded (cannot open shared object file): ignored.\n",
      "j37ec3zv0h-algo-1-txkro  | Downloading: \"https://download.pytorch.org/models/mobilenet_v2-b0353104.pth\" to /root/.cache/torch/checkpoints/mobilenet_v2-b0353104.pth\n",
      "100%|██████████| 13.6M/13.6M [00:00<00:00, 150MB/s]\n",
      "1it [00:00,  1.17it/s]o  | \n",
      "1it [00:00,  1.12it/s]o  | \n",
      "1it [00:00,  1.20it/s]o  | \n",
      "1it [00:00,  1.25it/s]o  | \n",
      "1it [00:00,  1.26it/s]o  | \n",
      "1it [00:00,  1.20it/s]o  | \n",
      "1it [00:00,  1.23it/s]o  | \n",
      "1it [00:00,  1.14it/s]o  | \n",
      "1it [00:00,  1.20it/s]o  | \n",
      "1it [00:00,  1.19it/s]o  | \n",
      "j37ec3zv0h-algo-1-txkro  | \n",
      "j37ec3zv0h-algo-1-txkro  | 2024-12-18 20:13:18,345 sagemaker-training-toolkit INFO     Reporting training SUCCESS\n",
      "j37ec3zv0h-algo-1-txkro exited with code 0\n",
      "Aborting on container exit...\n",
      " Container j37ec3zv0h-algo-1-txkro  Stopping\n",
      " Container j37ec3zv0h-algo-1-txkro  Stopped\n"
     ]
    },
    {
     "data": {
      "text/html": [
       "<pre style=\"white-space:pre;overflow-x:auto;line-height:normal;font-family:Menlo,'DejaVu Sans Mono',consolas,'Courier New',monospace\"><span style=\"color: #7fbfbf; text-decoration-color: #7fbfbf\">[12/18/24 20:13:19] </span><span style=\"color: #d7af00; text-decoration-color: #d7af00; font-weight: bold\">WARNING </span> Failed to delete: <span style=\"color: #e100e1; text-decoration-color: #e100e1\">/tmp/tmpr_j6aaxm/algo-1-txkro</span> Please remove it         <a href=\"file:///home/ec2-user/anaconda3/envs/tensorflow2_p310/lib/python3.10/site-packages/sagemaker/local/image.py\" target=\"_blank\"><span style=\"color: #7f7f7f; text-decoration-color: #7f7f7f\">image.py</span></a><span style=\"color: #7f7f7f; text-decoration-color: #7f7f7f\">:</span><a href=\"file:///home/ec2-user/anaconda3/envs/tensorflow2_p310/lib/python3.10/site-packages/sagemaker/local/image.py#1087\" target=\"_blank\"><span style=\"color: #7f7f7f; text-decoration-color: #7f7f7f\">1087</span></a>\n",
       "<span style=\"color: #7fbfbf; text-decoration-color: #7fbfbf\">                    </span>         manually.                                                                <span style=\"color: #7f7f7f; text-decoration-color: #7f7f7f\">             </span>\n",
       "</pre>\n"
      ],
      "text/plain": [
       "\u001b[2;36m[12/18/24 20:13:19]\u001b[0m\u001b[2;36m \u001b[0m\u001b[1;38;2;215;175;0mWARNING \u001b[0m Failed to delete: \u001b[38;2;225;0;225m/tmp/tmpr_j6aaxm/\u001b[0m\u001b[38;2;225;0;225malgo-1-txkro\u001b[0m Please remove it         \u001b]8;id=577376;file:///home/ec2-user/anaconda3/envs/tensorflow2_p310/lib/python3.10/site-packages/sagemaker/local/image.py\u001b\\\u001b[2mimage.py\u001b[0m\u001b]8;;\u001b\\\u001b[2m:\u001b[0m\u001b]8;id=127408;file:///home/ec2-user/anaconda3/envs/tensorflow2_p310/lib/python3.10/site-packages/sagemaker/local/image.py#1087\u001b\\\u001b[2m1087\u001b[0m\u001b]8;;\u001b\\\n",
       "\u001b[2;36m                    \u001b[0m         manually.                                                                \u001b[2m             \u001b[0m\n"
      ]
     },
     "metadata": {},
     "output_type": "display_data"
    },
    {
     "data": {
      "text/html": [
       "<pre style=\"white-space:pre;overflow-x:auto;line-height:normal;font-family:Menlo,'DejaVu Sans Mono',consolas,'Courier New',monospace\"><span style=\"color: #7fbfbf; text-decoration-color: #7fbfbf\">                    </span><span style=\"color: #0069ff; text-decoration-color: #0069ff; font-weight: bold\">INFO    </span> ===== Job Complete =====                                                  <a href=\"file:///home/ec2-user/anaconda3/envs/tensorflow2_p310/lib/python3.10/site-packages/sagemaker/local/image.py\" target=\"_blank\"><span style=\"color: #7f7f7f; text-decoration-color: #7f7f7f\">image.py</span></a><span style=\"color: #7f7f7f; text-decoration-color: #7f7f7f\">:</span><a href=\"file:///home/ec2-user/anaconda3/envs/tensorflow2_p310/lib/python3.10/site-packages/sagemaker/local/image.py#325\" target=\"_blank\"><span style=\"color: #7f7f7f; text-decoration-color: #7f7f7f\">325</span></a>\n",
       "</pre>\n"
      ],
      "text/plain": [
       "\u001b[2;36m                   \u001b[0m\u001b[2;36m \u001b[0m\u001b[1;38;2;0;105;255mINFO    \u001b[0m ===== Job Complete =====                                                  \u001b]8;id=925200;file:///home/ec2-user/anaconda3/envs/tensorflow2_p310/lib/python3.10/site-packages/sagemaker/local/image.py\u001b\\\u001b[2mimage.py\u001b[0m\u001b]8;;\u001b\\\u001b[2m:\u001b[0m\u001b]8;id=75213;file:///home/ec2-user/anaconda3/envs/tensorflow2_p310/lib/python3.10/site-packages/sagemaker/local/image.py#325\u001b\\\u001b[2m325\u001b[0m\u001b]8;;\u001b\\\n"
      ]
     },
     "metadata": {},
     "output_type": "display_data"
    }
   ],
   "source": [
    "from sagemaker.estimator import Estimator\n",
    "from sagemaker import get_execution_role\n",
    "import sagemaker\n",
    "import subprocess\n",
    "\n",
    "subprocess.run(['sh', 'docker-build.sh'])\n",
    "\n",
    "role=get_execution_role()\n",
    "\n",
    "bucket = 'udacity-deeplearning-project'\n",
    "sample_prefix = 'sample'\n",
    "\n",
    "hyperparameters = {\n",
    "    'model-type': 'mobilenetv2',\n",
    "    'num-classes': 133,\n",
    "    'batch-size': 32,\n",
    "    'lr': 0.005070970373087015\n",
    "}\n",
    "\n",
    "bucket = 'udacity-deeplearning-resubmit'\n",
    "s3_output_location = f\"s3://{bucket}/outputs\"\n",
    "\n",
    "estimator=Estimator(\n",
    "    image_uri='udacity-sagemaker-hpo',\n",
    "    role=role,\n",
    "    instance_count=1,\n",
    "    instance_type='local',\n",
    "    output_path=s3_output_location,\n",
    "    hyperparameters=hyperparameters\n",
    ")\n",
    "\n",
    "model_inputs = {\n",
    "    \"train\": \"file://./data/test\", # Using test to test on a cheaper instance\n",
    "    \"test\": \"file://./data/valid\"\n",
    "}\n",
    "\n",
    "estimator.fit(inputs=model_inputs, logs=True ,wait=True)"
   ]
  },
  {
   "cell_type": "markdown",
   "id": "572d3514-bc1c-40d5-a000-97292ccb17c8",
   "metadata": {},
   "source": [
    "## Testing Deployed Estimator"
   ]
  },
  {
   "cell_type": "code",
   "execution_count": 8,
   "id": "e6f43502-7b17-4fa6-bddd-90a3271bb641",
   "metadata": {
    "tags": []
   },
   "outputs": [
    {
     "name": "stdout",
     "output_type": "stream",
     "text": [
      "push-container.sh: line 1: fg: no job control\n",
      "WARNING! Your password will be stored unencrypted in /home/ec2-user/.docker/config.json.\n",
      "Configure a credential helper to remove this warning. See\n",
      "https://docs.docker.com/engine/reference/commandline/login/#credentials-store\n",
      "\n",
      "Login Succeeded\n",
      "\u001b[1A\u001b[1B\u001b[0G\u001b[?25l[+] Building 0.0s (0/1)                                          docker:default\n",
      "\u001b[?25h\u001b[1A\u001b[0G\u001b[?25l[+] Building 0.1s (1/1) FINISHED                                 docker:default\n",
      "\u001b[34m => [internal] load build definition from Dockerfile                       0.0s\n",
      "\u001b[0m\u001b[34m => => transferring dockerfile: 2B                                         0.0s\n",
      "\u001b[0m\u001b[?25hERROR: failed to solve: failed to read dockerfile: open Dockerfile: no such file or directory\n",
      "The push refers to repository [477684614357.dkr.ecr.us-east-1.amazonaws.com/udacity-sagemaker-hpo]\n",
      "\n",
      "\u001b[1Bbf18a086: Preparing \n",
      "\u001b[1B2f371b74: Preparing \n",
      "\u001b[1B54f619ed: Preparing \n",
      "\u001b[1B95045e04: Preparing \n",
      "\u001b[1Be9708ca1: Preparing \n",
      "\u001b[1B8f6060c6: Preparing \n",
      "\u001b[1Ba3c12226: Preparing \n",
      "\u001b[1B62daa95e: Preparing \n",
      "\u001b[1B8fe1cb59: Preparing \n",
      "\u001b[1B061a5b0d: Preparing \n",
      "\u001b[1B3ff1bf08: Preparing \n",
      "\u001b[1Bfc0e8a35: Preparing \n",
      "\u001b[1B6a8aee3d: Preparing \n",
      "\u001b[1Be27443e4: Preparing \n",
      "\u001b[1Bd2b930fc: Preparing \n",
      "\u001b[1Bec0db89a: Preparing \n",
      "\u001b[1B49baa658: Preparing \n",
      "\u001b[17Bf371b74: Pushed lready exists 5kB8A\u001b[2K\u001b[13A\u001b[2K\u001b[10A\u001b[2K\u001b[9A\u001b[2K\u001b[5A\u001b[2K\u001b[3A\u001b[2K\u001b[2A\u001b[2K\u001b[17A\u001b[2Klatest: digest: sha256:270caf291c1bcd4f582cb4f3b14f90941bb8147db83b4fff40b4b90801098bba size: 4080\n"
     ]
    }
   ],
   "source": [
    "!sh push-container.sh"
   ]
  },
  {
   "cell_type": "code",
   "execution_count": 9,
   "id": "070d573d-0e9e-4862-a5c6-384483849ab8",
   "metadata": {
    "tags": []
   },
   "outputs": [],
   "source": [
    "model_inputs = {\n",
    "    \"train\": sagemaker.inputs.TrainingInput(\n",
    "        s3_data=f\"s3://{bucket}/{sample_prefix}/test/\", # To speed up the proces during this test and save on resources\n",
    "        content_type=\"application/x-image\"\n",
    "    ),\n",
    "    \"test\": sagemaker.inputs.TrainingInput(\n",
    "        s3_data=f\"s3://{bucket}/{sample_prefix}/valid/\",\n",
    "        content_type=\"application/x-image\"\n",
    "    )\n",
    "}"
   ]
  },
  {
   "cell_type": "code",
   "execution_count": 10,
   "id": "db355544-0e4d-424b-b8e7-246a93e08c0b",
   "metadata": {
    "tags": []
   },
   "outputs": [],
   "source": [
    "hyperparameters = {\n",
    "    'model-type': 'mobilenetv2',\n",
    "    'num-classes': 133,\n",
    "    'batch-size': 32,\n",
    "    'lr': 0.005070970373087015,\n",
    "    'epochs': 1\n",
    "}"
   ]
  },
  {
   "cell_type": "code",
   "execution_count": 11,
   "id": "78ace2c8-ca83-4f3f-93a2-16d0126e1cdd",
   "metadata": {
    "tags": []
   },
   "outputs": [
    {
     "data": {
      "text/html": [
       "<pre style=\"white-space:pre;overflow-x:auto;line-height:normal;font-family:Menlo,'DejaVu Sans Mono',consolas,'Courier New',monospace\"><span style=\"color: #7fbfbf; text-decoration-color: #7fbfbf\">[12/18/24 20:13:29] </span><span style=\"color: #0069ff; text-decoration-color: #0069ff; font-weight: bold\">INFO    </span> SageMaker Python SDK will collect telemetry to help us better  <a href=\"file:///home/ec2-user/anaconda3/envs/tensorflow2_p310/lib/python3.10/site-packages/sagemaker/telemetry/telemetry_logging.py\" target=\"_blank\"><span style=\"color: #7f7f7f; text-decoration-color: #7f7f7f\">telemetry_logging.py</span></a><span style=\"color: #7f7f7f; text-decoration-color: #7f7f7f\">:</span><a href=\"file:///home/ec2-user/anaconda3/envs/tensorflow2_p310/lib/python3.10/site-packages/sagemaker/telemetry/telemetry_logging.py#90\" target=\"_blank\"><span style=\"color: #7f7f7f; text-decoration-color: #7f7f7f\">90</span></a>\n",
       "<span style=\"color: #7fbfbf; text-decoration-color: #7fbfbf\">                    </span>         understand our user's needs, diagnose issues, and deliver      <span style=\"color: #7f7f7f; text-decoration-color: #7f7f7f\">                       </span>\n",
       "<span style=\"color: #7fbfbf; text-decoration-color: #7fbfbf\">                    </span>         additional features.                                           <span style=\"color: #7f7f7f; text-decoration-color: #7f7f7f\">                       </span>\n",
       "<span style=\"color: #7fbfbf; text-decoration-color: #7fbfbf\">                    </span>         To opt out of telemetry, please disable via TelemetryOptOut    <span style=\"color: #7f7f7f; text-decoration-color: #7f7f7f\">                       </span>\n",
       "<span style=\"color: #7fbfbf; text-decoration-color: #7fbfbf\">                    </span>         parameter in SDK defaults config. For more information, refer  <span style=\"color: #7f7f7f; text-decoration-color: #7f7f7f\">                       </span>\n",
       "<span style=\"color: #7fbfbf; text-decoration-color: #7fbfbf\">                    </span>         to                                                             <span style=\"color: #7f7f7f; text-decoration-color: #7f7f7f\">                       </span>\n",
       "<span style=\"color: #7fbfbf; text-decoration-color: #7fbfbf\">                    </span>         <span style=\"color: #0069ff; text-decoration-color: #0069ff; text-decoration: underline\">https://sagemaker.readthedocs.io/en/stable/overview.html#confi</span> <span style=\"color: #7f7f7f; text-decoration-color: #7f7f7f\">                       </span>\n",
       "<span style=\"color: #7fbfbf; text-decoration-color: #7fbfbf\">                    </span>         <span style=\"color: #0069ff; text-decoration-color: #0069ff; text-decoration: underline\">guring-and-using-defaults-with-the-sagemaker-python-sdk.</span>       <span style=\"color: #7f7f7f; text-decoration-color: #7f7f7f\">                       </span>\n",
       "</pre>\n"
      ],
      "text/plain": [
       "\u001b[2;36m[12/18/24 20:13:29]\u001b[0m\u001b[2;36m \u001b[0m\u001b[1;38;2;0;105;255mINFO    \u001b[0m SageMaker Python SDK will collect telemetry to help us better  \u001b]8;id=504793;file:///home/ec2-user/anaconda3/envs/tensorflow2_p310/lib/python3.10/site-packages/sagemaker/telemetry/telemetry_logging.py\u001b\\\u001b[2mtelemetry_logging.py\u001b[0m\u001b]8;;\u001b\\\u001b[2m:\u001b[0m\u001b]8;id=750393;file:///home/ec2-user/anaconda3/envs/tensorflow2_p310/lib/python3.10/site-packages/sagemaker/telemetry/telemetry_logging.py#90\u001b\\\u001b[2m90\u001b[0m\u001b]8;;\u001b\\\n",
       "\u001b[2;36m                    \u001b[0m         understand our user's needs, diagnose issues, and deliver      \u001b[2m                       \u001b[0m\n",
       "\u001b[2;36m                    \u001b[0m         additional features.                                           \u001b[2m                       \u001b[0m\n",
       "\u001b[2;36m                    \u001b[0m         To opt out of telemetry, please disable via TelemetryOptOut    \u001b[2m                       \u001b[0m\n",
       "\u001b[2;36m                    \u001b[0m         parameter in SDK defaults config. For more information, refer  \u001b[2m                       \u001b[0m\n",
       "\u001b[2;36m                    \u001b[0m         to                                                             \u001b[2m                       \u001b[0m\n",
       "\u001b[2;36m                    \u001b[0m         \u001b[4;38;2;0;105;255mhttps://sagemaker.readthedocs.io/en/stable/overview.html#confi\u001b[0m \u001b[2m                       \u001b[0m\n",
       "\u001b[2;36m                    \u001b[0m         \u001b[4;38;2;0;105;255mguring-and-using-defaults-with-the-sagemaker-python-sdk.\u001b[0m       \u001b[2m                       \u001b[0m\n"
      ]
     },
     "metadata": {},
     "output_type": "display_data"
    },
    {
     "data": {
      "text/html": [
       "<pre style=\"white-space:pre;overflow-x:auto;line-height:normal;font-family:Menlo,'DejaVu Sans Mono',consolas,'Courier New',monospace\"><span style=\"color: #7fbfbf; text-decoration-color: #7fbfbf\">[12/18/24 20:13:30] </span><span style=\"color: #0069ff; text-decoration-color: #0069ff; font-weight: bold\">INFO    </span> Creating training-job with name:                                       <a href=\"file:///home/ec2-user/anaconda3/envs/tensorflow2_p310/lib/python3.10/site-packages/sagemaker/session.py\" target=\"_blank\"><span style=\"color: #7f7f7f; text-decoration-color: #7f7f7f\">session.py</span></a><span style=\"color: #7f7f7f; text-decoration-color: #7f7f7f\">:</span><a href=\"file:///home/ec2-user/anaconda3/envs/tensorflow2_p310/lib/python3.10/site-packages/sagemaker/session.py#1042\" target=\"_blank\"><span style=\"color: #7f7f7f; text-decoration-color: #7f7f7f\">1042</span></a>\n",
       "<span style=\"color: #7fbfbf; text-decoration-color: #7fbfbf\">                    </span>         udacity-sagemaker-hpo-<span style=\"color: #008080; text-decoration-color: #008080; font-weight: bold\">2024</span>-12-18-20-13-29-974                          <span style=\"color: #7f7f7f; text-decoration-color: #7f7f7f\">               </span>\n",
       "</pre>\n"
      ],
      "text/plain": [
       "\u001b[2;36m[12/18/24 20:13:30]\u001b[0m\u001b[2;36m \u001b[0m\u001b[1;38;2;0;105;255mINFO    \u001b[0m Creating training-job with name:                                       \u001b]8;id=579348;file:///home/ec2-user/anaconda3/envs/tensorflow2_p310/lib/python3.10/site-packages/sagemaker/session.py\u001b\\\u001b[2msession.py\u001b[0m\u001b]8;;\u001b\\\u001b[2m:\u001b[0m\u001b]8;id=220947;file:///home/ec2-user/anaconda3/envs/tensorflow2_p310/lib/python3.10/site-packages/sagemaker/session.py#1042\u001b\\\u001b[2m1042\u001b[0m\u001b]8;;\u001b\\\n",
       "\u001b[2;36m                    \u001b[0m         udacity-sagemaker-hpo-\u001b[1;36m2024\u001b[0m-12-18-20-13-29-974                          \u001b[2m               \u001b[0m\n"
      ]
     },
     "metadata": {},
     "output_type": "display_data"
    },
    {
     "name": "stdout",
     "output_type": "stream",
     "text": [
      "2024-12-18 20:13:31 Starting - Starting the training job...\n",
      "2024-12-18 20:13:45 Starting - Preparing the instances for training...\n",
      "2024-12-18 20:14:18 Downloading - Downloading input data...\n",
      "2024-12-18 20:14:38 Downloading - Downloading the training image...\n",
      "2024-12-18 20:15:29 Training - Training image download completed. Training in progress.\n",
      "2024-12-18 20:15:29 Uploading - Uploading generated training model\u001b[34mbash: cannot set terminal process group (-1): Inappropriate ioctl for device\u001b[0m\n",
      "\u001b[34mbash: no job control in this shell\u001b[0m\n",
      "\u001b[34msed: can't read changehostname.c: No such file or directory\u001b[0m\n",
      "\u001b[34mgcc: error: changehostname.c: No such file or directory\u001b[0m\n",
      "\u001b[34mgcc: fatal error: no input files\u001b[0m\n",
      "\u001b[34mcompilation terminated.\u001b[0m\n",
      "\u001b[34mgcc: error: changehostname.o: No such file or directory\u001b[0m\n",
      "\u001b[34mERROR: ld.so: object '/libchangehostname.so' from LD_PRELOAD cannot be preloaded (cannot open shared object file): ignored.\u001b[0m\n",
      "\u001b[34m2024-12-18 20:15:20,721 sagemaker-training-toolkit INFO     Imported framework sagemaker_pytorch_container.training\u001b[0m\n",
      "\u001b[34m2024-12-18 20:15:20,723 sagemaker-training-toolkit INFO     No GPUs detected (normal if no gpus installed)\u001b[0m\n",
      "\u001b[34m2024-12-18 20:15:20,724 sagemaker-training-toolkit INFO     Failed to parse hyperparameter model-type value mobilenetv2 to Json.\u001b[0m\n",
      "\u001b[34mReturning the value itself\u001b[0m\n",
      "\u001b[34m2024-12-18 20:15:20,734 sagemaker_pytorch_container.training INFO     Block until all host DNS lookups succeed.\u001b[0m\n",
      "\u001b[34m2024-12-18 20:15:20,737 sagemaker_pytorch_container.training INFO     Invoking user training script.\u001b[0m\n",
      "\u001b[34m2024-12-18 20:15:20,740 sagemaker-training-toolkit INFO     No GPUs detected (normal if no gpus installed)\u001b[0m\n",
      "\u001b[34m2024-12-18 20:15:20,740 sagemaker-training-toolkit INFO     Failed to parse hyperparameter model-type value mobilenetv2 to Json.\u001b[0m\n",
      "\u001b[34mReturning the value itself\u001b[0m\n",
      "\u001b[34m2024-12-18 20:15:20,753 sagemaker-training-toolkit INFO     No GPUs detected (normal if no gpus installed)\u001b[0m\n",
      "\u001b[34m2024-12-18 20:15:20,753 sagemaker-training-toolkit INFO     Failed to parse hyperparameter model-type value mobilenetv2 to Json.\u001b[0m\n",
      "\u001b[34mReturning the value itself\u001b[0m\n",
      "\u001b[34m2024-12-18 20:15:20,766 sagemaker-training-toolkit INFO     No GPUs detected (normal if no gpus installed)\u001b[0m\n",
      "\u001b[34m2024-12-18 20:15:20,767 sagemaker-training-toolkit INFO     Failed to parse hyperparameter model-type value mobilenetv2 to Json.\u001b[0m\n",
      "\u001b[34mReturning the value itself\u001b[0m\n",
      "\u001b[34m2024-12-18 20:15:20,777 sagemaker-training-toolkit INFO     Invoking user script\u001b[0m\n",
      "\u001b[34mTraining Env:\u001b[0m\n",
      "\u001b[34m{\n",
      "    \"additional_framework_parameters\": {},\n",
      "    \"channel_input_dirs\": {\n",
      "        \"test\": \"/opt/ml/input/data/test\",\n",
      "        \"train\": \"/opt/ml/input/data/train\"\n",
      "    },\n",
      "    \"current_host\": \"algo-1\",\n",
      "    \"framework_module\": \"sagemaker_pytorch_container.training:main\",\n",
      "    \"hosts\": [\n",
      "        \"algo-1\"\n",
      "    ],\n",
      "    \"hyperparameters\": {\n",
      "        \"batch-size\": 32,\n",
      "        \"epochs\": 1,\n",
      "        \"lr\": 0.005070970373087015,\n",
      "        \"model-type\": \"mobilenetv2\",\n",
      "        \"num-classes\": 133\n",
      "    },\n",
      "    \"input_config_dir\": \"/opt/ml/input/config\",\n",
      "    \"input_data_config\": {\n",
      "        \"test\": {\n",
      "            \"ContentType\": \"application/x-image\",\n",
      "            \"TrainingInputMode\": \"File\",\n",
      "            \"S3DistributionType\": \"FullyReplicated\",\n",
      "            \"RecordWrapperType\": \"None\"\n",
      "        },\n",
      "        \"train\": {\n",
      "            \"ContentType\": \"application/x-image\",\n",
      "            \"TrainingInputMode\": \"File\",\n",
      "            \"S3DistributionType\": \"FullyReplicated\",\n",
      "            \"RecordWrapperType\": \"None\"\n",
      "        }\n",
      "    },\n",
      "    \"input_dir\": \"/opt/ml/input\",\n",
      "    \"is_master\": true,\n",
      "    \"job_name\": \"udacity-sagemaker-hpo-2024-12-18-20-13-29-974\",\n",
      "    \"log_level\": 20,\n",
      "    \"master_hostname\": \"algo-1\",\n",
      "    \"model_dir\": \"/opt/ml/model\",\n",
      "    \"module_dir\": \"/opt/ml/code\",\n",
      "    \"module_name\": \"hpo-container\",\n",
      "    \"network_interface_name\": \"eth0\",\n",
      "    \"num_cpus\": 4,\n",
      "    \"num_gpus\": 0,\n",
      "    \"output_data_dir\": \"/opt/ml/output/data\",\n",
      "    \"output_dir\": \"/opt/ml/output\",\n",
      "    \"output_intermediate_dir\": \"/opt/ml/output/intermediate\",\n",
      "    \"resource_config\": {\n",
      "        \"current_host\": \"algo-1\",\n",
      "        \"current_instance_type\": \"ml.m5.xlarge\",\n",
      "        \"current_group_name\": \"homogeneousCluster\",\n",
      "        \"hosts\": [\n",
      "            \"algo-1\"\n",
      "        ],\n",
      "        \"instance_groups\": [\n",
      "            {\n",
      "                \"instance_group_name\": \"homogeneousCluster\",\n",
      "                \"instance_type\": \"ml.m5.xlarge\",\n",
      "                \"hosts\": [\n",
      "                    \"algo-1\"\n",
      "                ]\n",
      "            }\n",
      "        ],\n",
      "        \"network_interface_name\": \"eth0\"\n",
      "    },\n",
      "    \"user_entry_point\": \"hpo-container.py\"\u001b[0m\n",
      "\u001b[34m}\u001b[0m\n",
      "\u001b[34mEnvironment variables:\u001b[0m\n",
      "\u001b[34mSM_HOSTS=[\"algo-1\"]\u001b[0m\n",
      "\u001b[34mSM_NETWORK_INTERFACE_NAME=eth0\u001b[0m\n",
      "\u001b[34mSM_HPS={\"batch-size\":32,\"epochs\":1,\"lr\":0.005070970373087015,\"model-type\":\"mobilenetv2\",\"num-classes\":133}\u001b[0m\n",
      "\u001b[34mSM_USER_ENTRY_POINT=hpo-container.py\u001b[0m\n",
      "\u001b[34mSM_FRAMEWORK_PARAMS={}\u001b[0m\n",
      "\u001b[34mSM_RESOURCE_CONFIG={\"current_group_name\":\"homogeneousCluster\",\"current_host\":\"algo-1\",\"current_instance_type\":\"ml.m5.xlarge\",\"hosts\":[\"algo-1\"],\"instance_groups\":[{\"hosts\":[\"algo-1\"],\"instance_group_name\":\"homogeneousCluster\",\"instance_type\":\"ml.m5.xlarge\"}],\"network_interface_name\":\"eth0\"}\u001b[0m\n",
      "\u001b[34mSM_INPUT_DATA_CONFIG={\"test\":{\"ContentType\":\"application/x-image\",\"RecordWrapperType\":\"None\",\"S3DistributionType\":\"FullyReplicated\",\"TrainingInputMode\":\"File\"},\"train\":{\"ContentType\":\"application/x-image\",\"RecordWrapperType\":\"None\",\"S3DistributionType\":\"FullyReplicated\",\"TrainingInputMode\":\"File\"}}\u001b[0m\n",
      "\u001b[34mSM_OUTPUT_DATA_DIR=/opt/ml/output/data\u001b[0m\n",
      "\u001b[34mSM_CHANNELS=[\"test\",\"train\"]\u001b[0m\n",
      "\u001b[34mSM_CURRENT_HOST=algo-1\u001b[0m\n",
      "\u001b[34mSM_MODULE_NAME=hpo-container\u001b[0m\n",
      "\u001b[34mSM_LOG_LEVEL=20\u001b[0m\n",
      "\u001b[34mSM_FRAMEWORK_MODULE=sagemaker_pytorch_container.training:main\u001b[0m\n",
      "\u001b[34mSM_INPUT_DIR=/opt/ml/input\u001b[0m\n",
      "\u001b[34mSM_INPUT_CONFIG_DIR=/opt/ml/input/config\u001b[0m\n",
      "\u001b[34mSM_OUTPUT_DIR=/opt/ml/output\u001b[0m\n",
      "\u001b[34mSM_NUM_CPUS=4\u001b[0m\n",
      "\u001b[34mSM_NUM_GPUS=0\u001b[0m\n",
      "\u001b[34mSM_MODEL_DIR=/opt/ml/model\u001b[0m\n",
      "\u001b[34mSM_MODULE_DIR=/opt/ml/code\u001b[0m\n",
      "\u001b[34mSM_TRAINING_ENV={\"additional_framework_parameters\":{},\"channel_input_dirs\":{\"test\":\"/opt/ml/input/data/test\",\"train\":\"/opt/ml/input/data/train\"},\"current_host\":\"algo-1\",\"framework_module\":\"sagemaker_pytorch_container.training:main\",\"hosts\":[\"algo-1\"],\"hyperparameters\":{\"batch-size\":32,\"epochs\":1,\"lr\":0.005070970373087015,\"model-type\":\"mobilenetv2\",\"num-classes\":133},\"input_config_dir\":\"/opt/ml/input/config\",\"input_data_config\":{\"test\":{\"ContentType\":\"application/x-image\",\"RecordWrapperType\":\"None\",\"S3DistributionType\":\"FullyReplicated\",\"TrainingInputMode\":\"File\"},\"train\":{\"ContentType\":\"application/x-image\",\"RecordWrapperType\":\"None\",\"S3DistributionType\":\"FullyReplicated\",\"TrainingInputMode\":\"File\"}},\"input_dir\":\"/opt/ml/input\",\"is_master\":true,\"job_name\":\"udacity-sagemaker-hpo-2024-12-18-20-13-29-974\",\"log_level\":20,\"master_hostname\":\"algo-1\",\"model_dir\":\"/opt/ml/model\",\"module_dir\":\"/opt/ml/code\",\"module_name\":\"hpo-container\",\"network_interface_name\":\"eth0\",\"num_cpus\":4,\"num_gpus\":0,\"output_data_dir\":\"/opt/ml/output/data\",\"output_dir\":\"/opt/ml/output\",\"output_intermediate_dir\":\"/opt/ml/output/intermediate\",\"resource_config\":{\"current_group_name\":\"homogeneousCluster\",\"current_host\":\"algo-1\",\"current_instance_type\":\"ml.m5.xlarge\",\"hosts\":[\"algo-1\"],\"instance_groups\":[{\"hosts\":[\"algo-1\"],\"instance_group_name\":\"homogeneousCluster\",\"instance_type\":\"ml.m5.xlarge\"}],\"network_interface_name\":\"eth0\"},\"user_entry_point\":\"hpo-container.py\"}\u001b[0m\n",
      "\u001b[34mSM_USER_ARGS=[\"--batch-size\",\"32\",\"--epochs\",\"1\",\"--lr\",\"0.005070970373087015\",\"--model-type\",\"mobilenetv2\",\"--num-classes\",\"133\"]\u001b[0m\n",
      "\u001b[34mSM_OUTPUT_INTERMEDIATE_DIR=/opt/ml/output/intermediate\u001b[0m\n",
      "\u001b[34mSM_CHANNEL_TEST=/opt/ml/input/data/test\u001b[0m\n",
      "\u001b[34mSM_CHANNEL_TRAIN=/opt/ml/input/data/train\u001b[0m\n",
      "\u001b[34mSM_HP_BATCH-SIZE=32\u001b[0m\n",
      "\u001b[34mSM_HP_EPOCHS=1\u001b[0m\n",
      "\u001b[34mSM_HP_LR=0.005070970373087015\u001b[0m\n",
      "\u001b[34mSM_HP_MODEL-TYPE=mobilenetv2\u001b[0m\n",
      "\u001b[34mSM_HP_NUM-CLASSES=133\u001b[0m\n",
      "\u001b[34mPYTHONPATH=/opt/ml/code:/opt/conda/bin:/opt/conda/lib/python36.zip:/opt/conda/lib/python3.6:/opt/conda/lib/python3.6/lib-dynload:/opt/conda/lib/python3.6/site-packages\u001b[0m\n",
      "\u001b[34mInvoking script with the following command:\u001b[0m\n",
      "\u001b[34m/opt/conda/bin/python3.6 hpo-container.py --batch-size 32 --epochs 1 --lr 0.005070970373087015 --model-type mobilenetv2 --num-classes 133\u001b[0m\n",
      "\u001b[34m-> Selected model type: mobilenetv2\u001b[0m\n",
      "\u001b[34m[2024-12-18 20:15:22.032 ip-10-0-112-36.ec2.internal:19 INFO json_config.py:90] Creating hook from json_config at /opt/ml/input/config/debughookconfig.json.\u001b[0m\n",
      "\u001b[34m[2024-12-18 20:15:22.032 ip-10-0-112-36.ec2.internal:19 INFO hook.py:193] tensorboard_dir has not been set for the hook. SMDebug will not be exporting tensorboard summaries.\u001b[0m\n",
      "\u001b[34m[2024-12-18 20:15:22.033 ip-10-0-112-36.ec2.internal:19 INFO hook.py:238] Saving to /opt/ml/output/tensors\u001b[0m\n",
      "\u001b[34m[2024-12-18 20:15:22.033 ip-10-0-112-36.ec2.internal:19 INFO state_store.py:67] The checkpoint config file /opt/ml/input/config/checkpointconfig.json does not exist.\u001b[0m\n",
      "\u001b[34m************************************************************\u001b[0m\n",
      "\u001b[34m-> USING DEBUGER/PROFILER...\u001b[0m\n",
      "\u001b[34mRegistered collections: {'all': <class Collection: name=all>, 'biases': <class Collection: name=biases>, 'gradients': <class Collection: name=gradients>, 'weights': <class Collection: name=weights>, 'losses': <class Collection: name=losses>, 'default': <class Collection: name=default>}\u001b[0m\n",
      "\u001b[34m-> Using cross_entropy loss criterion...\u001b[0m\n",
      "\u001b[34m-> Using Adadelta optimizer...\u001b[0m\n",
      "\u001b[34m-> Creating custom data loaders...\u001b[0m\n",
      "\u001b[34m************************************************************\u001b[0m\n",
      "\u001b[34m-> Starting model training...\u001b[0m\n",
      "\u001b[34m[2024-12-18 20:15:22.191 ip-10-0-112-36.ec2.internal:19 INFO hook.py:398] Monitoring the collections: losses\u001b[0m\n",
      "\u001b[34m[2024-12-18 20:15:22.192 ip-10-0-112-36.ec2.internal:19 INFO hook.py:461] Hook is writing from the hook with pid: 19\u001b[0m\n",
      "\u001b[34mTrain Epoch: 1 [0/8 (0%)]#011Loss: 4.898854\u001b[0m\n",
      "\u001b[34mTest set: Average loss: 0.6381, Accuracy: 0/8 (0%)\u001b[0m\n",
      "\u001b[34m-> TorchScript model saved to /opt/ml/model/model.pth\u001b[0m\n",
      "\u001b[34m-> TorchScript model loaded successfully for verification.\u001b[0m\n",
      "\u001b[34m-> TorchScript model verification successful: Forward pass completed.\u001b[0m\n",
      "\u001b[34mERROR: ld.so: object '/libchangehostname.so' from LD_PRELOAD cannot be preloaded (cannot open shared object file): ignored.\u001b[0m\n",
      "\u001b[34mERROR: ld.so: object '/libchangehostname.so' from LD_PRELOAD cannot be preloaded (cannot open shared object file): ignored.\u001b[0m\n",
      "\u001b[34mERROR: ld.so: object '/libchangehostname.so' from LD_PRELOAD cannot be preloaded (cannot open shared object file): ignored.\u001b[0m\n",
      "\u001b[34mERROR: ld.so: object '/libchangehostname.so' from LD_PRELOAD cannot be preloaded (cannot open shared object file): ignored.\u001b[0m\n",
      "\u001b[34mDownloading: \"https://download.pytorch.org/models/mobilenet_v2-b0353104.pth\" to /root/.cache/torch/checkpoints/mobilenet_v2-b0353104.pth\u001b[0m\n",
      "\u001b[34m#015  0%|          | 0.00/13.6M [00:00<?, ?B/s]#015100%|██████████| 13.6M/13.6M [00:00<00:00, 318MB/s]\u001b[0m\n",
      "\u001b[34m#0150it [00:00, ?it/s]#0151it [00:00,  1.88it/s]#0151it [00:00,  1.84it/s]\u001b[0m\n",
      "\u001b[34m2024-12-18 20:15:24,732 sagemaker-training-toolkit INFO     Reporting training SUCCESS\u001b[0m\n",
      "\n",
      "2024-12-18 20:15:37 Completed - Training job completed\n",
      "Training seconds: 79\n",
      "Billable seconds: 79\n"
     ]
    }
   ],
   "source": [
    "estimator=Estimator(\n",
    "    image_uri='477684614357.dkr.ecr.us-east-1.amazonaws.com/udacity-sagemaker-hpo',\n",
    "    role=role,\n",
    "    instance_count=1,\n",
    "    instance_type='ml.m5.xlarge',\n",
    "    hyperparameters=hyperparameters\n",
    ")\n",
    "\n",
    "estimator.fit(inputs=model_inputs, logs=True)"
   ]
  },
  {
   "cell_type": "code",
   "execution_count": 13,
   "id": "b9c7e61f-8be3-4f07-826e-06191f90414f",
   "metadata": {
    "tags": []
   },
   "outputs": [
    {
     "name": "stdout",
     "output_type": "stream",
     "text": [
      "Training Job Name: udacity-sagemaker-hpo-2024-12-18-20-13-29-974\n",
      "Model Artifact Location: s3://sagemaker-us-east-1-477684614357/udacity-sagemaker-hpo-2024-12-18-20-13-29-974/output/model.tar.gz\n"
     ]
    }
   ],
   "source": [
    "import boto3\n",
    "\n",
    "sagemaker_client = boto3.client(\"sagemaker\")\n",
    "\n",
    "# Get the latest training job name\n",
    "training_job_name = estimator.latest_training_job.name\n",
    "print(f\"Training Job Name: {training_job_name}\")\n",
    "\n",
    "# Get the model artifact location from the training job details\n",
    "response = sagemaker_client.describe_training_job(TrainingJobName=training_job_name)\n",
    "model_artifact = response[\"ModelArtifacts\"][\"S3ModelArtifacts\"]\n",
    "print(f\"Model Artifact Location: {model_artifact}\")\n"
   ]
  },
  {
   "cell_type": "markdown",
   "id": "bdc42542-52b6-499e-b15e-38580aefd4dd",
   "metadata": {},
   "source": [
    "# Testing Batch Inference"
   ]
  },
  {
   "cell_type": "code",
   "execution_count": 28,
   "id": "3fc2e3bb-0705-4987-9333-71453dcb2584",
   "metadata": {
    "tags": []
   },
   "outputs": [],
   "source": [
    "from sagemaker.pytorch import PyTorchModel\n",
    "\n",
    "pytorch_model = PyTorchModel(\n",
    "    model_data=model_artifact,  # Use the artifact location from the training job\n",
    "    role=estimator.role,       # Use the role from your estimator\n",
    "    entry_point=\"image/inference.py\",\n",
    "    framework_version=\"1.8.1\",\n",
    "    py_version=\"py3\",\n",
    "    image_uri=\"763104351884.dkr.ecr.us-east-1.amazonaws.com/pytorch-inference:1.8.1-cpu-py36-ubuntu18.04\",  # PyTorch-Inference image\n",
    ")\n"
   ]
  },
  {
   "cell_type": "code",
   "execution_count": 29,
   "id": "69623137-c2b8-411e-b973-317986a06591",
   "metadata": {
    "tags": []
   },
   "outputs": [
    {
     "name": "stderr",
     "output_type": "stream",
     "text": [
      "INFO:sagemaker:Repacking model artifact (s3://sagemaker-us-east-1-598308907998/udacity-sagemaker-hpo-2024-11-24-20-20-00-150/output/model.tar.gz), script artifact (None), and dependencies ([]) into single tar.gz file located at s3://sagemaker-us-east-1-598308907998/pytorch-inference-2024-11-24-20-26-25-124/model.tar.gz. This may take some time depending on model size...\n",
      "INFO:sagemaker:Creating model with name: pytorch-inference-2024-11-24-20-26-29-479\n"
     ]
    }
   ],
   "source": [
    "transformer = pytorch_model.transformer(\n",
    "    instance_count=1,\n",
    "    instance_type=\"ml.m5.large\",\n",
    "    output_path=\"s3://udacity-deeplearning-project/inference/\",  # S3 location for output\n",
    ")\n"
   ]
  },
  {
   "cell_type": "code",
   "execution_count": 30,
   "id": "9375d00c-5d9e-4add-879a-f74929ec9a03",
   "metadata": {
    "tags": []
   },
   "outputs": [
    {
     "name": "stderr",
     "output_type": "stream",
     "text": [
      "INFO:sagemaker:Creating transform job with name: pytorch-inference-2024-11-24-20-26-32-239\n"
     ]
    },
    {
     "name": "stdout",
     "output_type": "stream",
     "text": [
      "..............................\u001b[34m2024-11-24 20:31:35,030 [INFO ] main org.pytorch.serve.servingsdk.impl.PluginsManager - Initializing plugins manager...\u001b[0m\n",
      "\u001b[34m2024-11-24 20:31:35,237 [INFO ] main org.pytorch.serve.ModelServer - \u001b[0m\n",
      "\u001b[34mTorchserve version: 0.4.0\u001b[0m\n",
      "\u001b[34mTS Home: /opt/conda/lib/python3.6/site-packages\u001b[0m\n",
      "\u001b[34mCurrent directory: /\u001b[0m\n",
      "\u001b[34mTemp directory: /home/model-server/tmp\u001b[0m\n",
      "\u001b[34mNumber of GPUs: 0\u001b[0m\n",
      "\u001b[34mNumber of CPUs: 2\u001b[0m\n",
      "\u001b[34mMax heap size: 952 M\u001b[0m\n",
      "\u001b[34mPython executable: /opt/conda/bin/python3.6\u001b[0m\n",
      "\u001b[34mConfig file: /etc/sagemaker-ts.properties\u001b[0m\n",
      "\u001b[34mInference address: http://0.0.0.0:8080\u001b[0m\n",
      "\u001b[34mManagement address: http://0.0.0.0:8080\u001b[0m\n",
      "\u001b[34mMetrics address: http://127.0.0.1:8082\u001b[0m\n",
      "\u001b[34mModel Store: /.sagemaker/ts/models\u001b[0m\n",
      "\u001b[34mInitial Models: model.mar\u001b[0m\n",
      "\u001b[34mLog dir: /logs\u001b[0m\n",
      "\u001b[34mMetrics dir: /logs\u001b[0m\n",
      "\u001b[34mNetty threads: 0\u001b[0m\n",
      "\u001b[34mNetty client threads: 0\u001b[0m\n",
      "\u001b[34mDefault workers per model: 2\u001b[0m\n",
      "\u001b[34mBlacklist Regex: N/A\u001b[0m\n",
      "\u001b[34mMaximum Response Size: 6553500\u001b[0m\n",
      "\u001b[34mMaximum Request Size: 6553500\u001b[0m\n",
      "\u001b[34mPrefer direct buffer: false\u001b[0m\n",
      "\u001b[34mAllowed Urls: [file://.*|http(s)?://.*]\u001b[0m\n",
      "\u001b[34mCustom python dependency for model allowed: false\u001b[0m\n",
      "\u001b[34mMetrics report format: prometheus\u001b[0m\n",
      "\u001b[34mEnable metrics API: true\u001b[0m\n",
      "\u001b[34mWorkflow Store: /.sagemaker/ts/models\u001b[0m\n",
      "\u001b[34m2024-11-24 20:31:35,248 [INFO ] main org.pytorch.serve.servingsdk.impl.PluginsManager -  Loading snapshot serializer plugin...\u001b[0m\n",
      "\u001b[34m2024-11-24 20:31:35,286 [INFO ] main org.pytorch.serve.ModelServer - Loading initial models: model.mar\u001b[0m\n",
      "\u001b[34m2024-11-24 20:31:36,405 [INFO ] main org.pytorch.serve.wlm.ModelManager - Model model loaded.\u001b[0m\n",
      "\u001b[34m2024-11-24 20:31:36,429 [INFO ] main org.pytorch.serve.ModelServer - Initialize Inference server with: EpollServerSocketChannel.\u001b[0m\n",
      "\u001b[34m2024-11-24 20:31:36,677 [INFO ] main org.pytorch.serve.ModelServer - Inference API bind to: http://0.0.0.0:8080\u001b[0m\n",
      "\u001b[34m2024-11-24 20:31:36,678 [INFO ] main org.pytorch.serve.ModelServer - Initialize Metrics server with: EpollServerSocketChannel.\u001b[0m\n",
      "\u001b[34m2024-11-24 20:31:36,689 [INFO ] main org.pytorch.serve.ModelServer - Metrics API bind to: http://127.0.0.1:8082\u001b[0m\n",
      "\u001b[34mModel server started.\u001b[0m\n",
      "\u001b[34m2024-11-24 20:31:37,250 [WARN ] pool-2-thread-1 org.pytorch.serve.metrics.MetricCollector - worker pid is not available yet.\u001b[0m\n",
      "\u001b[34m2024-11-24 20:31:37,482 [INFO ] pool-2-thread-1 TS_METRICS - CPUUtilization.Percent:0.0|#Level:Host|#hostname:42a730c6c470,timestamp:1732480297\u001b[0m\n",
      "\u001b[34m2024-11-24 20:31:37,486 [INFO ] pool-2-thread-1 TS_METRICS - DiskAvailable.Gigabytes:47.32533645629883|#Level:Host|#hostname:42a730c6c470,timestamp:1732480297\u001b[0m\n",
      "\u001b[34m2024-11-24 20:31:37,487 [INFO ] pool-2-thread-1 TS_METRICS - DiskUsage.Gigabytes:8.539794921875|#Level:Host|#hostname:42a730c6c470,timestamp:1732480297\u001b[0m\n",
      "\u001b[34m2024-11-24 20:31:37,487 [INFO ] pool-2-thread-1 TS_METRICS - DiskUtilization.Percent:15.3|#Level:Host|#hostname:42a730c6c470,timestamp:1732480297\u001b[0m\n",
      "\u001b[34m2024-11-24 20:31:37,488 [INFO ] pool-2-thread-1 TS_METRICS - MemoryAvailable.Megabytes:6570.9375|#Level:Host|#hostname:42a730c6c470,timestamp:1732480297\u001b[0m\n",
      "\u001b[34m2024-11-24 20:31:37,488 [INFO ] pool-2-thread-1 TS_METRICS - MemoryUsed.Megabytes:798.8828125|#Level:Host|#hostname:42a730c6c470,timestamp:1732480297\u001b[0m\n",
      "\u001b[34m2024-11-24 20:31:37,489 [INFO ] pool-2-thread-1 TS_METRICS - MemoryUtilization.Percent:14.3|#Level:Host|#hostname:42a730c6c470,timestamp:1732480297\u001b[0m\n",
      "\u001b[34m2024-11-24 20:31:37,741 [INFO ] W-9000-model_1-stdout MODEL_LOG - Listening on port: /home/model-server/tmp/.ts.sock.9000\u001b[0m\n",
      "\u001b[34m2024-11-24 20:31:37,742 [INFO ] W-9000-model_1-stdout MODEL_LOG - [PID]42\u001b[0m\n",
      "\u001b[34m2024-11-24 20:31:37,742 [INFO ] W-9000-model_1-stdout MODEL_LOG - Torch worker started.\u001b[0m\n",
      "\u001b[34m2024-11-24 20:31:37,744 [INFO ] W-9000-model_1-stdout MODEL_LOG - Python runtime: 3.6.13\u001b[0m\n",
      "\u001b[34m2024-11-24 20:31:37,750 [INFO ] W-9000-model_1 org.pytorch.serve.wlm.WorkerThread - Connecting to: /home/model-server/tmp/.ts.sock.9000\u001b[0m\n",
      "\u001b[34m2024-11-24 20:31:37,781 [INFO ] W-9000-model_1-stdout MODEL_LOG - Connection accepted: /home/model-server/tmp/.ts.sock.9000.\u001b[0m\n",
      "\u001b[34m2024-11-24 20:31:37,814 [INFO ] W-9001-model_1-stdout MODEL_LOG - Listening on port: /home/model-server/tmp/.ts.sock.9001\u001b[0m\n",
      "\u001b[34m2024-11-24 20:31:37,816 [INFO ] W-9001-model_1-stdout MODEL_LOG - [PID]43\u001b[0m\n",
      "\u001b[34m2024-11-24 20:31:37,816 [INFO ] W-9001-model_1-stdout MODEL_LOG - Torch worker started.\u001b[0m\n",
      "\u001b[34m2024-11-24 20:31:37,816 [INFO ] W-9001-model_1-stdout MODEL_LOG - Python runtime: 3.6.13\u001b[0m\n",
      "\u001b[34m2024-11-24 20:31:37,816 [INFO ] W-9001-model_1 org.pytorch.serve.wlm.WorkerThread - Connecting to: /home/model-server/tmp/.ts.sock.9001\u001b[0m\n",
      "\u001b[34m2024-11-24 20:31:37,821 [INFO ] W-9001-model_1-stdout MODEL_LOG - Connection accepted: /home/model-server/tmp/.ts.sock.9001.\u001b[0m\n",
      "\u001b[34m2024-11-24 20:31:38,347 [INFO ] W-9001-model_1 org.pytorch.serve.wlm.WorkerThread - Backend response time: 490\u001b[0m\n",
      "\u001b[34m2024-11-24 20:31:38,348 [INFO ] W-9001-model_1 TS_METRICS - W-9001-model_1.ms:1930|#Level:Host|#hostname:42a730c6c470,timestamp:1732480298\u001b[0m\n",
      "\u001b[34m2024-11-24 20:31:38,361 [INFO ] W-9001-model_1 TS_METRICS - WorkerThreadTime.ms:49|#Level:Host|#hostname:42a730c6c470,timestamp:null\u001b[0m\n",
      "\u001b[34m2024-11-24 20:31:38,436 [INFO ] W-9000-model_1 org.pytorch.serve.wlm.WorkerThread - Backend response time: 532\u001b[0m\n",
      "\u001b[34m2024-11-24 20:31:38,437 [INFO ] W-9000-model_1 TS_METRICS - W-9000-model_1.ms:2022|#Level:Host|#hostname:42a730c6c470,timestamp:1732480298\u001b[0m\n",
      "\u001b[34m2024-11-24 20:31:38,437 [INFO ] W-9000-model_1 TS_METRICS - WorkerThreadTime.ms:121|#Level:Host|#hostname:42a730c6c470,timestamp:null\u001b[0m\n",
      "\u001b[34m2024-11-24 20:31:43,254 [INFO ] pool-1-thread-3 ACCESS_LOG - /169.254.255.130:55842 \"GET /ping HTTP/1.1\" 200 30\u001b[0m\n",
      "\u001b[34m2024-11-24 20:31:43,255 [INFO ] pool-1-thread-3 TS_METRICS - Requests2XX.Count:1|#Level:Host|#hostname:42a730c6c470,timestamp:null\u001b[0m\n",
      "\u001b[34m2024-11-24 20:31:43,297 [INFO ] epollEventLoopGroup-3-2 ACCESS_LOG - /169.254.255.130:55856 \"GET /execution-parameters HTTP/1.1\" 404 1\u001b[0m\n",
      "\u001b[34m2024-11-24 20:31:43,297 [INFO ] epollEventLoopGroup-3-2 TS_METRICS - Requests4XX.Count:1|#Level:Host|#hostname:42a730c6c470,timestamp:null\u001b[0m\n",
      "\u001b[34m2024-11-24 20:31:43,606 [INFO ] W-9001-model_1-stdout MODEL_METRICS - PredictionTime.Milliseconds:181.33|#ModelName:model,Level:Model|#hostname:42a730c6c470,requestID:6f24d8c2-4e79-42ed-a5b7-8c7a7cf096ca,timestamp:1732480303\u001b[0m\n",
      "\u001b[34m2024-11-24 20:31:43,607 [INFO ] W-9001-model_1 org.pytorch.serve.wlm.WorkerThread - Backend response time: 182\u001b[0m\n",
      "\u001b[34m2024-11-24 20:31:43,608 [INFO ] W-9001-model_1 ACCESS_LOG - /169.254.255.130:55870 \"POST /invocations HTTP/1.1\" 200 196\u001b[0m\n",
      "\u001b[34m2024-11-24 20:31:43,608 [INFO ] W-9001-model_1 TS_METRICS - Requests2XX.Count:1|#Level:Host|#hostname:42a730c6c470,timestamp:null\u001b[0m\n",
      "\u001b[34m2024-11-24 20:31:43,609 [INFO ] W-9001-model_1 TS_METRICS - QueueTime.ms:0|#Level:Host|#hostname:42a730c6c470,timestamp:null\u001b[0m\n",
      "\u001b[34m2024-11-24 20:31:43,609 [INFO ] W-9001-model_1 TS_METRICS - WorkerThreadTime.ms:5|#Level:Host|#hostname:42a730c6c470,timestamp:null\u001b[0m\n",
      "\u001b[35m2024-11-24 20:31:43,254 [INFO ] pool-1-thread-3 ACCESS_LOG - /169.254.255.130:55842 \"GET /ping HTTP/1.1\" 200 30\u001b[0m\n",
      "\u001b[35m2024-11-24 20:31:43,255 [INFO ] pool-1-thread-3 TS_METRICS - Requests2XX.Count:1|#Level:Host|#hostname:42a730c6c470,timestamp:null\u001b[0m\n",
      "\u001b[35m2024-11-24 20:31:43,297 [INFO ] epollEventLoopGroup-3-2 ACCESS_LOG - /169.254.255.130:55856 \"GET /execution-parameters HTTP/1.1\" 404 1\u001b[0m\n",
      "\u001b[35m2024-11-24 20:31:43,297 [INFO ] epollEventLoopGroup-3-2 TS_METRICS - Requests4XX.Count:1|#Level:Host|#hostname:42a730c6c470,timestamp:null\u001b[0m\n",
      "\u001b[35m2024-11-24 20:31:43,606 [INFO ] W-9001-model_1-stdout MODEL_METRICS - PredictionTime.Milliseconds:181.33|#ModelName:model,Level:Model|#hostname:42a730c6c470,requestID:6f24d8c2-4e79-42ed-a5b7-8c7a7cf096ca,timestamp:1732480303\u001b[0m\n",
      "\u001b[35m2024-11-24 20:31:43,607 [INFO ] W-9001-model_1 org.pytorch.serve.wlm.WorkerThread - Backend response time: 182\u001b[0m\n",
      "\u001b[35m2024-11-24 20:31:43,608 [INFO ] W-9001-model_1 ACCESS_LOG - /169.254.255.130:55870 \"POST /invocations HTTP/1.1\" 200 196\u001b[0m\n",
      "\u001b[35m2024-11-24 20:31:43,608 [INFO ] W-9001-model_1 TS_METRICS - Requests2XX.Count:1|#Level:Host|#hostname:42a730c6c470,timestamp:null\u001b[0m\n",
      "\u001b[35m2024-11-24 20:31:43,609 [INFO ] W-9001-model_1 TS_METRICS - QueueTime.ms:0|#Level:Host|#hostname:42a730c6c470,timestamp:null\u001b[0m\n",
      "\u001b[35m2024-11-24 20:31:43,609 [INFO ] W-9001-model_1 TS_METRICS - WorkerThreadTime.ms:5|#Level:Host|#hostname:42a730c6c470,timestamp:null\u001b[0m\n",
      "\u001b[32m2024-11-24T20:31:43.312:[sagemaker logs]: MaxConcurrentTransforms=1, MaxPayloadInMB=6, BatchStrategy=MULTI_RECORD\u001b[0m\n",
      "\n",
      "Batch transform completed. Check the output in the specified S3 bucket.\n"
     ]
    }
   ],
   "source": [
    "transformer.transform(\n",
    "    data=\"s3://udacity-deeplearning-project/sample/data/batch/\",\n",
    "    content_type=\"application/x-image\",\n",
    "    wait=True\n",
    ")\n",
    "\n",
    "print(\"Batch transform completed. Check the output in the specified S3 bucket.\")"
   ]
  },
  {
   "cell_type": "markdown",
   "id": "e62ce707-3d47-4a44-aa0e-784abd182860",
   "metadata": {
    "tags": []
   },
   "source": [
    "# END OF NOTEBOOK"
   ]
  }
 ],
 "metadata": {
  "kernelspec": {
   "display_name": "conda_tensorflow2_p310",
   "language": "python",
   "name": "conda_tensorflow2_p310"
  },
  "language_info": {
   "codemirror_mode": {
    "name": "ipython",
    "version": 3
   },
   "file_extension": ".py",
   "mimetype": "text/x-python",
   "name": "python",
   "nbconvert_exporter": "python",
   "pygments_lexer": "ipython3",
   "version": "3.10.15"
  }
 },
 "nbformat": 4,
 "nbformat_minor": 5
}
